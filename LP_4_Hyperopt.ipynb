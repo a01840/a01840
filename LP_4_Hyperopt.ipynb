{
 "cells": [
  {
   "cell_type": "markdown",
   "id": "8e24d431-f4d4-4fda-8a6c-915ad7d98785",
   "metadata": {},
   "source": [
    "Lineare Optimierung “Andere“\n",
    "\n",
    "https://www.linkedin.com/feed/update/urn:li:activity:7350506543697543172/?midToken=AQHuucnYWQcIEA&midSig=2gKBl76uwTSXQ1&trk=eml-email_groups_recomm"
   ]
  },
  {
   "cell_type": "markdown",
   "id": "77247fe5-e105-4e3c-8d32-f4b326a80f8d",
   "metadata": {},
   "source": [
    "\n",
    "\n",
    "🟢 𝗦𝗰𝗶𝗣𝘆 (𝘀𝗰𝗶𝗽𝘆.𝗼𝗽𝘁𝗶𝗺𝗶𝘇𝗲) - 𝟭𝟯.𝟭𝗸 ⭐\n",
    "SciPy’s optimization module includes constrained and unconstrained optimization like linear and nonlinear programming.\n",
    "\n",
    "A mature, versatile choice, widely adopted in science and engineering.\n",
    "\n",
    "🟢 𝗚𝗼𝗼𝗴𝗹𝗲 𝗢𝗥-𝗧𝗼𝗼𝗹𝘀 - 𝟭𝟭.𝟮𝗸 ⭐\n",
    "Ideal for combinatorial optimization (routing, scheduling), supporting linear and integer programming.\n",
    "\n",
    "Highly efficient for complex operational research tasks.\n",
    "\n",
    "🟢 𝗢𝗽𝘁𝘂𝗻𝗮 - 𝟭𝟬.𝟳𝗸 ⭐\n",
    "Optuna offers Bayesian optimization and pruning for solving complex tasks, including multi-objective optimization.\n",
    "\n",
    "Its flexible, define-by-run API adapts to various scenarios.\n",
    "\n",
    "🟢 𝗛𝘆𝗽𝗲𝗿𝗢𝗽𝘁 - 𝟳.𝟮𝗸 ⭐\n",
    "Known for TPE and Random Search, HyperOpt excels in resource scheduling and parameter selection.\n",
    "\n",
    "Scales across machines, optimizing large datasets effectively.\n",
    "\n",
    "🟢 𝗖𝗩𝗫𝗣𝗬 - 𝟱.𝟰𝗸 ⭐\n",
    "CVXPY is a modeling library for convex optimization, popular in machine learning and economics.\n",
    "\n",
    "Intuitive syntax makes complex convex problems easy to solve.\n",
    "\n",
    "🟢 𝗖𝗩𝗫𝗣𝗬 𝗟𝗮𝘆𝗲𝗿𝘀 - 𝟭.𝟴𝗸 ⭐\n",
    "An extension of CVXPY that embeds optimization layers in deep learning models, ideal for structured prediction and control within neural networks.\n",
    "\n",
    "Works with PyTorch and TensorFlow.\n",
    "\n",
    "🟢 𝗣𝘂𝗟𝗣 - 𝟮.𝟭𝗸 ⭐\n",
    "A user-friendly library for linear and integer programming, suitable for prototyping, resource allocation, and scheduling.\n",
    "\n",
    "Effective for small to medium LP problems.\n",
    "\n",
    "🟢 𝗣𝘆𝗼𝗺𝗼 - 𝟮𝗸 ⭐\n",
    "Flexible for large-scale optimization, supporting linear, nonlinear, and mixed-integer programming.\n",
    "\n",
    "Used widely in energy systems and logistics, with strong multi-stage problem support.\n",
    "\n",
    "🟢 𝗖𝗮𝘀𝗔𝗗𝗶 - 𝟭.𝟳𝗸 ⭐\n",
    "A framework for dynamic optimization, used in engineering for real-time control.\n",
    "\n",
    "Efficient handling of symbolic expressions makes it ideal for scientific computing.\n",
    "\n",
    "🟢 𝗣𝘆𝗚𝗔𝗗 - 𝟭.𝟳𝗸 ⭐\n",
    "A Genetic Algorithm library for combinatorial/discrete optimization.\n"
   ]
  },
  {
   "cell_type": "code",
   "execution_count": null,
   "id": "788f3c40-3599-400d-b8f5-fb49815b7f29",
   "metadata": {
    "jupyter": {
     "source_hidden": true
    }
   },
   "outputs": [],
   "source": []
  },
  {
   "cell_type": "code",
   "execution_count": null,
   "id": "c701fc6e-dc86-4eda-8c47-e8abe842835d",
   "metadata": {},
   "outputs": [],
   "source": []
  },
  {
   "cell_type": "markdown",
   "id": "80684677-b4a1-4b22-9840-e4ef7733441b",
   "metadata": {},
   "source": [
    "🟢 𝗛𝘆𝗽𝗲𝗿𝗢𝗽𝘁 - 𝟳.𝟮𝗸 ⭐"
   ]
  },
  {
   "cell_type": "markdown",
   "id": "f80a938f-ed97-48e0-b56e-ea58bdd245ff",
   "metadata": {},
   "source": [
    "https://github.com/hyperopt/hyperopt"
   ]
  },
  {
   "cell_type": "code",
   "execution_count": 1,
   "id": "70ef6b8b-620f-4ffd-9786-12c6b886e7b4",
   "metadata": {},
   "outputs": [
    {
     "name": "stdout",
     "output_type": "stream",
     "text": [
      "0.2.7\n"
     ]
    }
   ],
   "source": [
    "import hyperopt\n",
    "print(hyperopt.__version__)"
   ]
  },
  {
   "cell_type": "code",
   "execution_count": 2,
   "id": "a52fdebc-2625-4aec-a2d6-3ca063db7b7d",
   "metadata": {},
   "outputs": [
    {
     "name": "stdout",
     "output_type": "stream",
     "text": [
      "100%|██████████| 1000/1000 [00:05<00:00, 193.38trial/s, best loss: -173068.54054588743]\n",
      "Optimal solution found!\n",
      "Number of Pro tablets to produce: 809.01\n",
      "Number of Mini tablets to produce: 185.82\n",
      "Maximum profit: $173068.54\n"
     ]
    }
   ],
   "source": [
    "from hyperopt import fmin, tpe, hp, STATUS_OK, Trials\n",
    "import numpy as np\n",
    "\n",
    "# Objective function for Hyperopt (minimize -profit to maximize profit)\n",
    "def objective(params):\n",
    "    x = params['x']  # Pro tablets\n",
    "    y = params['y']  # Mini tablets\n",
    "\n",
    "    # Constraints\n",
    "    if 6 * x + 9 * y > 7000:\n",
    "        return {'loss': float('inf'), 'status': STATUS_OK}\n",
    "    if x + y > 1000:\n",
    "        return {'loss': float('inf'), 'status': STATUS_OK}\n",
    "    if 15 * x + 10 * y > 14000:\n",
    "        return {'loss': float('inf'), 'status': STATUS_OK}\n",
    "\n",
    "    # Profit to maximize: 182x + 139y → minimize -profit\n",
    "    profit = 182 * x + 139 * y\n",
    "    return {'loss': -profit, 'status': STATUS_OK}\n",
    "\n",
    "# Define search space\n",
    "space = {\n",
    "    'x': hp.uniform('x', 0, 1000),\n",
    "    'y': hp.uniform('y', 0, 1000)\n",
    "}\n",
    "\n",
    "# Run the optimization\n",
    "trials = Trials()\n",
    "best = fmin(\n",
    "    fn=objective,\n",
    "    space=space,\n",
    "    algo=tpe.suggest,\n",
    "    max_evals=1000,\n",
    "    trials=trials,\n",
    "    rstate=np.random.default_rng(42)\n",
    ")\n",
    "\n",
    "# Compute profit from best values\n",
    "best_profit = 182 * best['x'] + 139 * best['y']\n",
    "\n",
    "print(\"Optimal solution found!\")\n",
    "print(f\"Number of Pro tablets to produce: {best['x']:.2f}\")\n",
    "print(f\"Number of Mini tablets to produce: {best['y']:.2f}\")\n",
    "print(f\"Maximum profit: ${best_profit:.2f}\")"
   ]
  },
  {
   "cell_type": "code",
   "execution_count": null,
   "id": "9cbb01a5-e321-4121-811e-409af084c791",
   "metadata": {},
   "outputs": [],
   "source": []
  },
  {
   "cell_type": "markdown",
   "id": "b9ef00a5-90a1-48b5-8642-c6da0624bdb7",
   "metadata": {},
   "source": [
    "### Chat GPT"
   ]
  },
  {
   "cell_type": "code",
   "execution_count": 1,
   "id": "8bb9c36f-e493-425c-b304-b37f292c1c26",
   "metadata": {},
   "outputs": [
    {
     "name": "stdout",
     "output_type": "stream",
     "text": [
      "100%|██████████| 1000/1000 [00:18<00:00, 53.11trial/s, best loss: -176721.4259523282]\n",
      "\n",
      "✅ Best Shipment Matrix (rounded):\n",
      "S1: [np.float64(9.01), np.float64(1.47), np.float64(0.0), np.float64(0.0)]\n",
      "S2: [np.float64(0.0), np.float64(0.37), np.float64(0.42), np.float64(0.0)]\n",
      "S3: [np.float64(0.0), np.float64(0.0), np.float64(0.02), np.float64(3.18)]\n",
      "S4: [np.float64(11.42), np.float64(4.9), np.float64(0.88), np.float64(0.0)]\n",
      "\n",
      "📦 Maximum Weighted Fulfilled Demand: 50.59\n",
      "📊 Value in Excel cell E16 (Objective Function): 50.59\n"
     ]
    }
   ],
   "source": [
    "from hyperopt import fmin, tpe, hp, STATUS_OK, Trials\n",
    "import numpy as np\n",
    "\n",
    "# === Problem Data ===\n",
    "supplies = [\"S1\", \"S2\", \"S3\", \"S4\"]\n",
    "demands = [\"D1\", \"D2\", \"D3\", \"D4\"]\n",
    "num_supplies = len(supplies)\n",
    "num_demands = len(demands)\n",
    "\n",
    "supply_capacity = np.array([10, 20, 30, 40])  # J8:J11\n",
    "demand_max = np.array([20, 30, 40, 50])       # E14:H14\n",
    "demand_weights = np.array([1, 2, 3, 4])        # E16:H16\n",
    "\n",
    "# Feasibility Matrix (E8:H11)\n",
    "feasibility = np.array([\n",
    "    [1, 1, 0, 0],\n",
    "    [0, 1, 1, 0],\n",
    "    [0, 0, 1, 1],\n",
    "    [1, 1, 1, 0]\n",
    "])\n",
    "\n",
    "# === Create the Hyperopt search space ===\n",
    "space = {}\n",
    "for i in range(num_supplies):\n",
    "    for j in range(num_demands):\n",
    "        if feasibility[i, j] == 1:\n",
    "            key = f\"x_{i}_{j}\"\n",
    "            space[key] = hp.uniform(key, 0, min(supply_capacity[i], demand_max[j]))\n",
    "\n",
    "# === Objective Function ===\n",
    "def objective(params):\n",
    "    X = np.zeros((num_supplies, num_demands))\n",
    "    \n",
    "    # Build matrix from flat dict\n",
    "    for i in range(num_supplies):\n",
    "        for j in range(num_demands):\n",
    "            if feasibility[i, j] == 1:\n",
    "                X[i, j] = params[f\"x_{i}_{j}\"]\n",
    "    \n",
    "    # Constraint violation penalty\n",
    "    penalty = 0\n",
    "    row_sum = X.sum(axis=1)\n",
    "    col_sum = X.sum(axis=0)\n",
    "\n",
    "    if np.any(row_sum > supply_capacity):\n",
    "        penalty += np.sum(row_sum - supply_capacity)\n",
    "    if np.any(col_sum > demand_max):\n",
    "        penalty += np.sum(col_sum - demand_max)\n",
    "\n",
    "    weighted_total = np.sum(demand_weights * col_sum)\n",
    "\n",
    "    # Hyperopt minimizes, so return negative value + penalty\n",
    "    loss = -weighted_total + 1000 * penalty\n",
    "\n",
    "    return {\"loss\": loss, \"status\": STATUS_OK}\n",
    "\n",
    "# === Run Optimization ===\n",
    "trials = Trials()\n",
    "best = fmin(\n",
    "    fn=objective,\n",
    "    space=space,\n",
    "    algo=tpe.suggest,\n",
    "    max_evals=1000,\n",
    "    trials=trials,\n",
    "    rstate=np.random.default_rng(42)\n",
    ")\n",
    "\n",
    "# === Reconstruct and print results ===\n",
    "shipment_matrix = np.zeros((num_supplies, num_demands))\n",
    "for i in range(num_supplies):\n",
    "    for j in range(num_demands):\n",
    "        if feasibility[i, j] == 1:\n",
    "            shipment_matrix[i, j] = best[f\"x_{i}_{j}\"]\n",
    "\n",
    "print(\"\\n✅ Best Shipment Matrix (rounded):\")\n",
    "for i in range(num_supplies):\n",
    "    row = [round(shipment_matrix[i, j], 2) for j in range(num_demands)]\n",
    "    print(f\"{supplies[i]}: {row}\")\n",
    "\n",
    "total_weighted_demand = np.sum(demand_weights * shipment_matrix.sum(axis=0))\n",
    "print(\"\\n📦 Maximum Weighted Fulfilled Demand:\", round(total_weighted_demand, 2))\n",
    "print(\"📊 Value in Excel cell E16 (Objective Function):\", round(total_weighted_demand, 2))"
   ]
  },
  {
   "cell_type": "code",
   "execution_count": 2,
   "id": "3d25849d-6246-44fc-8a9c-9f8086814de7",
   "metadata": {},
   "outputs": [
    {
     "data": {
      "text/plain": [
       "50.59"
      ]
     },
     "execution_count": 2,
     "metadata": {},
     "output_type": "execute_result"
    }
   ],
   "source": [
    "+9.01*1+1.47*2+0.37*2+0.42*3+0.02*3+3.18*4+11.42*1+4.9*2+0.88*3"
   ]
  },
  {
   "cell_type": "code",
   "execution_count": null,
   "id": "efe5a8f7-8c5f-4873-a7c9-590f2fbc1c1c",
   "metadata": {},
   "outputs": [],
   "source": []
  }
 ],
 "metadata": {
  "kernelspec": {
   "display_name": "Python 3 (ipykernel)",
   "language": "python",
   "name": "python3"
  },
  "language_info": {
   "codemirror_mode": {
    "name": "ipython",
    "version": 3
   },
   "file_extension": ".py",
   "mimetype": "text/x-python",
   "name": "python",
   "nbconvert_exporter": "python",
   "pygments_lexer": "ipython3",
   "version": "3.12.11"
  }
 },
 "nbformat": 4,
 "nbformat_minor": 5
}
