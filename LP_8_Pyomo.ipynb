{
 "cells": [
  {
   "cell_type": "markdown",
   "id": "8e24d431-f4d4-4fda-8a6c-915ad7d98785",
   "metadata": {},
   "source": [
    "Lineare Optimierung “Andere“\n",
    "\n",
    "https://www.linkedin.com/feed/update/urn:li:activity:7350506543697543172/?midToken=AQHuucnYWQcIEA&midSig=2gKBl76uwTSXQ1&trk=eml-email_groups_recomm"
   ]
  },
  {
   "cell_type": "markdown",
   "id": "77247fe5-e105-4e3c-8d32-f4b326a80f8d",
   "metadata": {},
   "source": [
    "\n",
    "\n",
    "🟢 𝗦𝗰𝗶𝗣𝘆 (𝘀𝗰𝗶𝗽𝘆.𝗼𝗽𝘁𝗶𝗺𝗶𝘇𝗲) - 𝟭𝟯.𝟭𝗸 ⭐\n",
    "SciPy’s optimization module includes constrained and unconstrained optimization like linear and nonlinear programming.\n",
    "\n",
    "A mature, versatile choice, widely adopted in science and engineering.\n",
    "\n",
    "🟢 𝗚𝗼𝗼𝗴𝗹𝗲 𝗢𝗥-𝗧𝗼𝗼𝗹𝘀 - 𝟭𝟭.𝟮𝗸 ⭐\n",
    "Ideal for combinatorial optimization (routing, scheduling), supporting linear and integer programming.\n",
    "\n",
    "Highly efficient for complex operational research tasks.\n",
    "\n",
    "🟢 𝗢𝗽𝘁𝘂𝗻𝗮 - 𝟭𝟬.𝟳𝗸 ⭐\n",
    "Optuna offers Bayesian optimization and pruning for solving complex tasks, including multi-objective optimization.\n",
    "\n",
    "Its flexible, define-by-run API adapts to various scenarios.\n",
    "\n",
    "🟢 𝗛𝘆𝗽𝗲𝗿𝗢𝗽𝘁 - 𝟳.𝟮𝗸 ⭐\n",
    "Known for TPE and Random Search, HyperOpt excels in resource scheduling and parameter selection.\n",
    "\n",
    "Scales across machines, optimizing large datasets effectively.\n",
    "\n",
    "🟢 𝗖𝗩𝗫𝗣𝗬 - 𝟱.𝟰𝗸 ⭐\n",
    "CVXPY is a modeling library for convex optimization, popular in machine learning and economics.\n",
    "\n",
    "Intuitive syntax makes complex convex problems easy to solve.\n",
    "\n",
    "🟢 𝗖𝗩𝗫𝗣𝗬 𝗟𝗮𝘆𝗲𝗿𝘀 - 𝟭.𝟴𝗸 ⭐\n",
    "An extension of CVXPY that embeds optimization layers in deep learning models, ideal for structured prediction and control within neural networks.\n",
    "\n",
    "Works with PyTorch and TensorFlow.\n",
    "\n",
    "🟢 𝗣𝘂𝗟𝗣 - 𝟮.𝟭𝗸 ⭐\n",
    "A user-friendly library for linear and integer programming, suitable for prototyping, resource allocation, and scheduling.\n",
    "\n",
    "Effective for small to medium LP problems.\n",
    "\n",
    "🟢 𝗣𝘆𝗼𝗺𝗼 - 𝟮𝗸 ⭐\n",
    "Flexible for large-scale optimization, supporting linear, nonlinear, and mixed-integer programming.\n",
    "\n",
    "Used widely in energy systems and logistics, with strong multi-stage problem support.\n",
    "\n",
    "🟢 𝗖𝗮𝘀𝗔𝗗𝗶 - 𝟭.𝟳𝗸 ⭐\n",
    "A framework for dynamic optimization, used in engineering for real-time control.\n",
    "\n",
    "Efficient handling of symbolic expressions makes it ideal for scientific computing.\n",
    "\n",
    "🟢 𝗣𝘆𝗚𝗔𝗗 - 𝟭.𝟳𝗸 ⭐\n",
    "A Genetic Algorithm library for combinatorial/discrete optimization.\n"
   ]
  },
  {
   "cell_type": "code",
   "execution_count": null,
   "id": "788f3c40-3599-400d-b8f5-fb49815b7f29",
   "metadata": {
    "jupyter": {
     "source_hidden": true
    }
   },
   "outputs": [],
   "source": []
  },
  {
   "cell_type": "code",
   "execution_count": null,
   "id": "c701fc6e-dc86-4eda-8c47-e8abe842835d",
   "metadata": {},
   "outputs": [],
   "source": []
  },
  {
   "cell_type": "markdown",
   "id": "80684677-b4a1-4b22-9840-e4ef7733441b",
   "metadata": {},
   "source": [
    "🟢 𝗣𝘆𝗼𝗺𝗼 - 𝟮𝗸"
   ]
  },
  {
   "cell_type": "markdown",
   "id": "f80a938f-ed97-48e0-b56e-ea58bdd245ff",
   "metadata": {},
   "source": [
    "https://www.pyomo.org/"
   ]
  },
  {
   "cell_type": "code",
   "execution_count": 1,
   "id": "70ef6b8b-620f-4ffd-9786-12c6b886e7b4",
   "metadata": {},
   "outputs": [
    {
     "name": "stdout",
     "output_type": "stream",
     "text": [
      "6.9.2\n"
     ]
    }
   ],
   "source": [
    "import pyomo\n",
    "print(pyomo.__version__)"
   ]
  },
  {
   "cell_type": "code",
   "execution_count": 5,
   "id": "b17a1794-a1b5-4ccf-8bd5-3eb9c53c59ca",
   "metadata": {},
   "outputs": [
    {
     "name": "stdout",
     "output_type": "stream",
     "text": [
      "12.0.3\n"
     ]
    }
   ],
   "source": [
    "import gurobipy\n",
    "print(gurobipy.__version__)"
   ]
  },
  {
   "cell_type": "code",
   "execution_count": 7,
   "id": "a67530f1-17c5-4a3f-a06e-1def921f1dc8",
   "metadata": {},
   "outputs": [
    {
     "name": "stdout",
     "output_type": "stream",
     "text": [
      "Optimal solution found!\n",
      "Number of Pro tablets to produce: 0.00\n",
      "Number of Mini tablets to produce: 0.00\n",
      "Maximum profit: $0.00\n"
     ]
    }
   ],
   "source": [
    "from pyomo.environ import ConcreteModel, Var, Objective, Constraint, NonNegativeReals, SolverFactory, value\n",
    "\n",
    "# Create a model\n",
    "model = ConcreteModel()\n",
    "\n",
    "# Define decision variables\n",
    "model.x = Var(domain=NonNegativeReals)  # Pro tablets\n",
    "model.y = Var(domain=NonNegativeReals)  # Mini tablets\n",
    "\n",
    "# Define objective function: Maximize profit = 182*x + 139*y\n",
    "model.profit = Objective(expr=182 * model.x + 139 * model.y, sense=1)  # 1 = maximize\n",
    "\n",
    "# Add constraints\n",
    "model.labor_hours = Constraint(expr=6 * model.x + 9 * model.y <= 7000)\n",
    "model.chip_sets = Constraint(expr=model.x + model.y <= 1000)\n",
    "model.electronic_components = Constraint(expr=15 * model.x + 10 * model.y <= 14000)\n",
    "\n",
    "# Solve the model using the GLPK solver (you can replace it with another solver)\n",
    "solver = SolverFactory('gurobi')\n",
    "results = solver.solve(model)\n",
    "\n",
    "# Print results\n",
    "print(\"Optimal solution found!\")\n",
    "print(f\"Number of Pro tablets to produce: {value(model.x):.2f}\")\n",
    "print(f\"Number of Mini tablets to produce: {value(model.y):.2f}\")\n",
    "print(f\"Maximum profit: ${value(model.profit):.2f}\")"
   ]
  },
  {
   "cell_type": "code",
   "execution_count": null,
   "id": "87f6a053-01e4-4d8d-aa66-8c781e00325e",
   "metadata": {},
   "outputs": [],
   "source": []
  },
  {
   "cell_type": "markdown",
   "id": "96717a20-d186-4c03-bc22-4a15b2643fc5",
   "metadata": {},
   "source": [
    "### Chat GPT"
   ]
  },
  {
   "cell_type": "markdown",
   "id": "0f7272de-e19c-4b59-9c51-ecdd3e6e79d9",
   "metadata": {},
   "source": [
    "- Great for linear, integer, and nonlinear optimization\n",
    "- Structured similarly to mathematical notation\n",
    "- Works with many solvers (e.g., CBC, GLPK, CPLEX, Gurobi)"
   ]
  },
  {
   "cell_type": "code",
   "execution_count": 3,
   "id": "310c4776-c060-415a-ac87-5487e6e7ab80",
   "metadata": {},
   "outputs": [
    {
     "name": "stdout",
     "output_type": "stream",
     "text": [
      "✅ Optimal Shipment Matrix (rounded):\n",
      "S1: [0.0, 10.0, 0.0, 0.0]\n",
      "S2: [0.0, 20.0, 0.0, 0.0]\n",
      "S3: [0.0, 0.0, 0.0, 30.0]\n",
      "S4: [0.0, 0.0, 40.0, 0.0]\n",
      "\n",
      "📊 Value in Excel cell E16 (Objective Function): 300.0\n"
     ]
    }
   ],
   "source": [
    "from pyomo.environ import *\n",
    "\n",
    "# === Sets ===\n",
    "supplies = ['S1', 'S2', 'S3', 'S4']\n",
    "demands = ['D1', 'D2', 'D3', 'D4']\n",
    "supply_idx = range(len(supplies))\n",
    "demand_idx = range(len(demands))\n",
    "\n",
    "# === Parameters ===\n",
    "supply_capacity = [10, 20, 30, 40]           # J8:J11\n",
    "demand_max = [20, 30, 40, 50]                # E14:H14\n",
    "demand_weights = [1, 2, 3, 4]                # E16:H16\n",
    "\n",
    "# Feasibility Matrix (E8:H11)\n",
    "feasibility = [\n",
    "    [1, 1, 0, 0],\n",
    "    [0, 1, 1, 0],\n",
    "    [0, 0, 1, 1],\n",
    "    [1, 1, 1, 0]\n",
    "]\n",
    "\n",
    "# === Model ===\n",
    "model = ConcreteModel()\n",
    "\n",
    "model.S = RangeSet(0, len(supplies) - 1)\n",
    "model.D = RangeSet(0, len(demands) - 1)\n",
    "\n",
    "# === Variables ===\n",
    "model.x = Var(model.S, model.D, domain=NonNegativeReals)\n",
    "\n",
    "# === Constraints ===\n",
    "\n",
    "# Supply capacity\n",
    "def supply_rule(model, i):\n",
    "    return sum(model.x[i, j] for j in model.D) <= supply_capacity[i]\n",
    "model.SupplyCon = Constraint(model.S, rule=supply_rule)\n",
    "\n",
    "# Demand limits\n",
    "def demand_rule(model, j):\n",
    "    return sum(model.x[i, j] for i in model.S) <= demand_max[j]\n",
    "model.DemandCon = Constraint(model.D, rule=demand_rule)\n",
    "\n",
    "# Feasibility constraints\n",
    "def feasibility_rule(model, i, j):\n",
    "    if feasibility[i][j] == 0:\n",
    "        return model.x[i, j] == 0\n",
    "    return Constraint.Skip\n",
    "model.FeasibilityCon = Constraint(model.S, model.D, rule=feasibility_rule)\n",
    "\n",
    "# === Objective ===\n",
    "def obj_rule(model):\n",
    "    return sum(demand_weights[j] * sum(model.x[i, j] for i in model.S) for j in model.D)\n",
    "model.Obj = Objective(rule=obj_rule, sense=maximize)\n",
    "\n",
    "# === Solver ===\n",
    "solver = SolverFactory('gurobi')  # or 'glpk', 'gurobi', 'cbc'etc.\n",
    "results = solver.solve(model)\n",
    "\n",
    "# === Print results ===\n",
    "print(\"✅ Optimal Shipment Matrix (rounded):\")\n",
    "for i in model.S:\n",
    "    row = []\n",
    "    for j in model.D:\n",
    "        row.append(round(value(model.x[i, j]), 2))\n",
    "    print(f\"{supplies[i]}: {row}\")\n",
    "\n",
    "objective_value = value(model.Obj)\n",
    "print(\"\\n📊 Value in Excel cell E16 (Objective Function):\", round(objective_value, 2))"
   ]
  },
  {
   "cell_type": "code",
   "execution_count": null,
   "id": "b6ed0233-7ed0-4b2b-bcd0-6743b63eaad3",
   "metadata": {},
   "outputs": [],
   "source": []
  }
 ],
 "metadata": {
  "kernelspec": {
   "display_name": "Python 3 (ipykernel)",
   "language": "python",
   "name": "python3"
  },
  "language_info": {
   "codemirror_mode": {
    "name": "ipython",
    "version": 3
   },
   "file_extension": ".py",
   "mimetype": "text/x-python",
   "name": "python",
   "nbconvert_exporter": "python",
   "pygments_lexer": "ipython3",
   "version": "3.12.11"
  }
 },
 "nbformat": 4,
 "nbformat_minor": 5
}
