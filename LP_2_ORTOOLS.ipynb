{
 "cells": [
  {
   "cell_type": "markdown",
   "id": "8e24d431-f4d4-4fda-8a6c-915ad7d98785",
   "metadata": {},
   "source": [
    "Lineare Optimierung “Andere“\n",
    "\n",
    "https://www.linkedin.com/feed/update/urn:li:activity:7350506543697543172/?midToken=AQHuucnYWQcIEA&midSig=2gKBl76uwTSXQ1&trk=eml-email_groups_recomm"
   ]
  },
  {
   "cell_type": "markdown",
   "id": "77247fe5-e105-4e3c-8d32-f4b326a80f8d",
   "metadata": {},
   "source": [
    "\n",
    "\n",
    "🟢 𝗦𝗰𝗶𝗣𝘆 (𝘀𝗰𝗶𝗽𝘆.𝗼𝗽𝘁𝗶𝗺𝗶𝘇𝗲) - 𝟭𝟯.𝟭𝗸 ⭐\n",
    "SciPy’s optimization module includes constrained and unconstrained optimization like linear and nonlinear programming.\n",
    "\n",
    "A mature, versatile choice, widely adopted in science and engineering.\n",
    "\n",
    "🟢 𝗚𝗼𝗼𝗴𝗹𝗲 𝗢𝗥-𝗧𝗼𝗼𝗹𝘀 - 𝟭𝟭.𝟮𝗸 ⭐\n",
    "Ideal for combinatorial optimization (routing, scheduling), supporting linear and integer programming.\n",
    "\n",
    "Highly efficient for complex operational research tasks.\n",
    "\n",
    "🟢 𝗢𝗽𝘁𝘂𝗻𝗮 - 𝟭𝟬.𝟳𝗸 ⭐\n",
    "Optuna offers Bayesian optimization and pruning for solving complex tasks, including multi-objective optimization.\n",
    "\n",
    "Its flexible, define-by-run API adapts to various scenarios.\n",
    "\n",
    "🟢 𝗛𝘆𝗽𝗲𝗿𝗢𝗽𝘁 - 𝟳.𝟮𝗸 ⭐\n",
    "Known for TPE and Random Search, HyperOpt excels in resource scheduling and parameter selection.\n",
    "\n",
    "Scales across machines, optimizing large datasets effectively.\n",
    "\n",
    "🟢 𝗖𝗩𝗫𝗣𝗬 - 𝟱.𝟰𝗸 ⭐\n",
    "CVXPY is a modeling library for convex optimization, popular in machine learning and economics.\n",
    "\n",
    "Intuitive syntax makes complex convex problems easy to solve.\n",
    "\n",
    "🟢 𝗖𝗩𝗫𝗣𝗬 𝗟𝗮𝘆𝗲𝗿𝘀 - 𝟭.𝟴𝗸 ⭐\n",
    "An extension of CVXPY that embeds optimization layers in deep learning models, ideal for structured prediction and control within neural networks.\n",
    "\n",
    "Works with PyTorch and TensorFlow.\n",
    "\n",
    "🟢 𝗣𝘂𝗟𝗣 - 𝟮.𝟭𝗸 ⭐\n",
    "A user-friendly library for linear and integer programming, suitable for prototyping, resource allocation, and scheduling.\n",
    "\n",
    "Effective for small to medium LP problems.\n",
    "\n",
    "🟢 𝗣𝘆𝗼𝗺𝗼 - 𝟮𝗸 ⭐\n",
    "Flexible for large-scale optimization, supporting linear, nonlinear, and mixed-integer programming.\n",
    "\n",
    "Used widely in energy systems and logistics, with strong multi-stage problem support.\n",
    "\n",
    "🟢 𝗖𝗮𝘀𝗔𝗗𝗶 - 𝟭.𝟳𝗸 ⭐\n",
    "A framework for dynamic optimization, used in engineering for real-time control.\n",
    "\n",
    "Efficient handling of symbolic expressions makes it ideal for scientific computing.\n",
    "\n",
    "🟢 𝗣𝘆𝗚𝗔𝗗 - 𝟭.𝟳𝗸 ⭐\n",
    "A Genetic Algorithm library for combinatorial/discrete optimization.\n"
   ]
  },
  {
   "cell_type": "code",
   "execution_count": null,
   "id": "788f3c40-3599-400d-b8f5-fb49815b7f29",
   "metadata": {
    "jupyter": {
     "source_hidden": true
    }
   },
   "outputs": [],
   "source": []
  },
  {
   "cell_type": "markdown",
   "id": "80684677-b4a1-4b22-9840-e4ef7733441b",
   "metadata": {},
   "source": [
    "🟢 𝗚𝗼𝗼𝗴𝗹𝗲 𝗢𝗥-𝗧𝗼𝗼𝗹𝘀 - 𝟭𝟭.𝟮𝗸 ⭐"
   ]
  },
  {
   "cell_type": "markdown",
   "id": "f80a938f-ed97-48e0-b56e-ea58bdd245ff",
   "metadata": {},
   "source": [
    "https://github.com/google/or-tools/tree/stable/examples/notebook"
   ]
  },
  {
   "cell_type": "code",
   "execution_count": 3,
   "id": "70ef6b8b-620f-4ffd-9786-12c6b886e7b4",
   "metadata": {},
   "outputs": [
    {
     "name": "stdout",
     "output_type": "stream",
     "text": [
      "9.14.6206\n"
     ]
    }
   ],
   "source": [
    "import ortools\n",
    "print(ortools.__version__)"
   ]
  },
  {
   "cell_type": "code",
   "execution_count": 5,
   "id": "31be2040-137a-4594-81cc-5a07d8778532",
   "metadata": {},
   "outputs": [
    {
     "name": "stdout",
     "output_type": "stream",
     "text": [
      "Optimal solution found!\n",
      "Number of Pro tablets to produce: 800.00\n",
      "Number of Mini tablets to produce: 200.00\n",
      "Maximum profit: $173400.00\n"
     ]
    }
   ],
   "source": [
    "from ortools.linear_solver import pywraplp\n",
    "\n",
    "# Create solver using GLOP (Google Linear Optimization Package)\n",
    "solver = pywraplp.Solver.CreateSolver(\"GLOP\")\n",
    "\n",
    "# Define decision variables\n",
    "# x = Pro tablets, y = Mini tablets\n",
    "x = solver.NumVar(0, solver.infinity(), 'x')  # Pro\n",
    "y = solver.NumVar(0, solver.infinity(), 'y')  # Mini\n",
    "\n",
    "# Objective function: Maximize profit → 182 * x + 139 * y\n",
    "objective = solver.Objective()\n",
    "objective.SetCoefficient(x, 182)\n",
    "objective.SetCoefficient(y, 139)\n",
    "objective.SetMaximization()\n",
    "\n",
    "# Constraints\n",
    "\n",
    "# 1. Labor hours: 6x + 9y ≤ 7000\n",
    "solver.Add(6 * x + 9 * y <= 7000)\n",
    "\n",
    "# 2. Chip sets: x + y ≤ 1000\n",
    "solver.Add(x + y <= 1000)\n",
    "\n",
    "# 3. Electronic components: 15x + 10y ≤ 14000\n",
    "solver.Add(15 * x + 10 * y <= 14000)\n",
    "\n",
    "# Solve the problem\n",
    "status = solver.Solve()\n",
    "\n",
    "# Output results\n",
    "if status == pywraplp.Solver.OPTIMAL:\n",
    "    print(\"Optimal solution found!\")\n",
    "    print(f\"Number of Pro tablets to produce: {x.solution_value():.2f}\")\n",
    "    print(f\"Number of Mini tablets to produce: {y.solution_value():.2f}\")\n",
    "    print(f\"Maximum profit: ${solver.Objective().Value():.2f}\")\n",
    "else:\n",
    "    print(\"Optimization failed or no optimal solution found.\")"
   ]
  },
  {
   "cell_type": "code",
   "execution_count": null,
   "id": "d31c8a4d-e756-4626-a257-697072aeb14d",
   "metadata": {},
   "outputs": [],
   "source": []
  },
  {
   "cell_type": "markdown",
   "id": "a9d3fddd-e54a-408e-8ca9-d088ff624cb2",
   "metadata": {},
   "source": [
    "### Code with Chat GPT"
   ]
  },
  {
   "cell_type": "code",
   "execution_count": 1,
   "id": "9cbb01a5-e321-4121-811e-409af084c791",
   "metadata": {},
   "outputs": [
    {
     "name": "stdout",
     "output_type": "stream",
     "text": [
      "✅ Optimal Shipment Matrix (S1–S4 to D1–D4):\n",
      "\n",
      "S1: [0.0, 10.0, 0.0, 0.0]\n",
      "S2: [0.0, 20.0, 0.0, 0.0]\n",
      "S3: [0.0, 0.0, 0.0, 30.0]\n",
      "S4: [0.0, 0.0, 40.0, 0.0]\n",
      "\n",
      "📦 Maximum Weighted Fulfilled Demand: 300.0\n",
      "\n",
      "📊 Value in Excel cell E16 (Objective Function): 300.0\n"
     ]
    }
   ],
   "source": [
    "from ortools.linear_solver import pywraplp\n",
    "import numpy as np\n",
    "\n",
    "# === Problem data ===\n",
    "\n",
    "supplies = [\"S1\", \"S2\", \"S3\", \"S4\"]\n",
    "demands = [\"D1\", \"D2\", \"D3\", \"D4\"]\n",
    "num_supplies = len(supplies)\n",
    "num_demands = len(demands)\n",
    "\n",
    "# Supply capacities (J8:J11)\n",
    "supply_capacity = [10, 20, 30, 40]\n",
    "\n",
    "# Demand limits (E14:H14)\n",
    "demand_max = [20, 30, 40, 50]\n",
    "\n",
    "# Demand weights (E16:H16)\n",
    "demand_weights = [1, 2, 3, 4]\n",
    "\n",
    "# Feasibility matrix (E8:H11): 1 = allowed, 0 = not allowed\n",
    "feasibility = np.array([\n",
    "    [1, 1, 0, 0],  # S1\n",
    "    [0, 1, 1, 0],  # S2\n",
    "    [0, 0, 1, 1],  # S3\n",
    "    [1, 1, 1, 0]   # S4\n",
    "])\n",
    "\n",
    "# === Create solver ===\n",
    "solver = pywraplp.Solver.CreateSolver(\"GLOP\")\n",
    "if not solver:\n",
    "    raise Exception(\"Solver not available.\")\n",
    "\n",
    "# === Define variables ===\n",
    "x = {}  # decision variables x[s, d]\n",
    "\n",
    "for i in range(num_supplies):\n",
    "    for j in range(num_demands):\n",
    "        if feasibility[i, j] == 1:\n",
    "            x[i, j] = solver.NumVar(0, solver.infinity(), f'x[{i},{j}]')\n",
    "        else:\n",
    "            x[i, j] = solver.NumVar(0, 0, f'x[{i},{j}]')  # force to 0 if infeasible\n",
    "\n",
    "# === Supply constraints: sum over each row <= supply capacity ===\n",
    "for i in range(num_supplies):\n",
    "    solver.Add(solver.Sum(x[i, j] for j in range(num_demands)) <= supply_capacity[i])\n",
    "\n",
    "# === Demand constraints: sum over each column <= demand max ===\n",
    "for j in range(num_demands):\n",
    "    solver.Add(solver.Sum(x[i, j] for i in range(num_supplies)) <= demand_max[j])\n",
    "\n",
    "# === Objective: Maximize weighted total fulfilled demand ===\n",
    "objective = solver.Objective()\n",
    "for i in range(num_supplies):\n",
    "    for j in range(num_demands):\n",
    "        objective.SetCoefficient(x[i, j], demand_weights[j])\n",
    "objective.SetMaximization()\n",
    "\n",
    "# === Solve ===\n",
    "status = solver.Solve()\n",
    "\n",
    "# === Output ===\n",
    "if status == pywraplp.Solver.OPTIMAL:\n",
    "    print(\"✅ Optimal Shipment Matrix (S1–S4 to D1–D4):\\n\")\n",
    "    for i in range(num_supplies):\n",
    "        row = [round(x[i, j].solution_value(), 2) for j in range(num_demands)]\n",
    "        print(f\"{supplies[i]}: {row}\")\n",
    "\n",
    "    print(\"\\n📦 Maximum Weighted Fulfilled Demand:\", round(solver.Objective().Value(), 2))\n",
    "    print(\"\\n📊 Value in Excel cell E16 (Objective Function):\", round(solver.Objective().Value(), 2))\n",
    "else:\n",
    "    print(\"❌ Optimization failed.\")"
   ]
  },
  {
   "cell_type": "code",
   "execution_count": null,
   "id": "5069e6ae-7150-470f-9382-80bb34c7d823",
   "metadata": {},
   "outputs": [],
   "source": []
  }
 ],
 "metadata": {
  "kernelspec": {
   "display_name": "Python 3 (ipykernel)",
   "language": "python",
   "name": "python3"
  },
  "language_info": {
   "codemirror_mode": {
    "name": "ipython",
    "version": 3
   },
   "file_extension": ".py",
   "mimetype": "text/x-python",
   "name": "python",
   "nbconvert_exporter": "python",
   "pygments_lexer": "ipython3",
   "version": "3.12.11"
  }
 },
 "nbformat": 4,
 "nbformat_minor": 5
}
