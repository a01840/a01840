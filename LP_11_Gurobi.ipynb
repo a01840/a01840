{
 "cells": [
  {
   "cell_type": "markdown",
   "id": "8e24d431-f4d4-4fda-8a6c-915ad7d98785",
   "metadata": {},
   "source": [
    "Lineare Optimierung “Andere“\n",
    "\n",
    "https://www.linkedin.com/feed/update/urn:li:activity:7350506543697543172/?midToken=AQHuucnYWQcIEA&midSig=2gKBl76uwTSXQ1&trk=eml-email_groups_recomm"
   ]
  },
  {
   "cell_type": "markdown",
   "id": "77247fe5-e105-4e3c-8d32-f4b326a80f8d",
   "metadata": {},
   "source": [
    "\n",
    "\n",
    "🟢 𝗦𝗰𝗶𝗣𝘆 (𝘀𝗰𝗶𝗽𝘆.𝗼𝗽𝘁𝗶𝗺𝗶𝘇𝗲) - 𝟭𝟯.𝟭𝗸 ⭐\n",
    "SciPy’s optimization module includes constrained and unconstrained optimization like linear and nonlinear programming.\n",
    "\n",
    "A mature, versatile choice, widely adopted in science and engineering.\n",
    "\n",
    "🟢 𝗚𝗼𝗼𝗴𝗹𝗲 𝗢𝗥-𝗧𝗼𝗼𝗹𝘀 - 𝟭𝟭.𝟮𝗸 ⭐\n",
    "Ideal for combinatorial optimization (routing, scheduling), supporting linear and integer programming.\n",
    "\n",
    "Highly efficient for complex operational research tasks.\n",
    "\n",
    "🟢 𝗢𝗽𝘁𝘂𝗻𝗮 - 𝟭𝟬.𝟳𝗸 ⭐\n",
    "Optuna offers Bayesian optimization and pruning for solving complex tasks, including multi-objective optimization.\n",
    "\n",
    "Its flexible, define-by-run API adapts to various scenarios.\n",
    "\n",
    "🟢 𝗛𝘆𝗽𝗲𝗿𝗢𝗽𝘁 - 𝟳.𝟮𝗸 ⭐\n",
    "Known for TPE and Random Search, HyperOpt excels in resource scheduling and parameter selection.\n",
    "\n",
    "Scales across machines, optimizing large datasets effectively.\n",
    "\n",
    "🟢 𝗖𝗩𝗫𝗣𝗬 - 𝟱.𝟰𝗸 ⭐\n",
    "CVXPY is a modeling library for convex optimization, popular in machine learning and economics.\n",
    "\n",
    "Intuitive syntax makes complex convex problems easy to solve.\n",
    "\n",
    "🟢 𝗖𝗩𝗫𝗣𝗬 𝗟𝗮𝘆𝗲𝗿𝘀 - 𝟭.𝟴𝗸 ⭐\n",
    "An extension of CVXPY that embeds optimization layers in deep learning models, ideal for structured prediction and control within neural networks.\n",
    "\n",
    "Works with PyTorch and TensorFlow.\n",
    "\n",
    "🟢 𝗣𝘂𝗟𝗣 - 𝟮.𝟭𝗸 ⭐\n",
    "A user-friendly library for linear and integer programming, suitable for prototyping, resource allocation, and scheduling.\n",
    "\n",
    "Effective for small to medium LP problems.\n",
    "\n",
    "🟢 𝗣𝘆𝗼𝗺𝗼 - 𝟮𝗸 ⭐\n",
    "Flexible for large-scale optimization, supporting linear, nonlinear, and mixed-integer programming.\n",
    "\n",
    "Used widely in energy systems and logistics, with strong multi-stage problem support.\n",
    "\n",
    "🟢 𝗖𝗮𝘀𝗔𝗗𝗶 - 𝟭.𝟳𝗸 ⭐\n",
    "A framework for dynamic optimization, used in engineering for real-time control.\n",
    "\n",
    "Efficient handling of symbolic expressions makes it ideal for scientific computing.\n",
    "\n",
    "🟢 𝗣𝘆𝗚𝗔𝗗 - 𝟭.𝟳𝗸 ⭐\n",
    "A Genetic Algorithm library for combinatorial/discrete optimization.\n"
   ]
  },
  {
   "cell_type": "code",
   "execution_count": null,
   "id": "788f3c40-3599-400d-b8f5-fb49815b7f29",
   "metadata": {
    "jupyter": {
     "source_hidden": true
    }
   },
   "outputs": [],
   "source": []
  },
  {
   "cell_type": "code",
   "execution_count": null,
   "id": "c701fc6e-dc86-4eda-8c47-e8abe842835d",
   "metadata": {},
   "outputs": [],
   "source": []
  },
  {
   "cell_type": "markdown",
   "id": "80684677-b4a1-4b22-9840-e4ef7733441b",
   "metadata": {},
   "source": [
    "🟢 Gurobi ⭐"
   ]
  },
  {
   "cell_type": "code",
   "execution_count": 1,
   "id": "7612fa3c-e651-4a37-8274-abd2d1a67667",
   "metadata": {},
   "outputs": [
    {
     "name": "stdout",
     "output_type": "stream",
     "text": [
      "12.0.3\n"
     ]
    }
   ],
   "source": [
    "import gurobipy as gp\n",
    "print(gp.__version__)"
   ]
  },
  {
   "cell_type": "code",
   "execution_count": 2,
   "id": "d218a252-a60a-4632-a01f-d5ab6e63b954",
   "metadata": {},
   "outputs": [
    {
     "name": "stdout",
     "output_type": "stream",
     "text": [
      "Set parameter Username\n",
      "Set parameter LicenseID to value 2619905\n",
      "\n",
      "--------------------------------------------\n",
      "Warning: your license will expire in 6 days\n",
      "--------------------------------------------\n",
      "\n",
      "Gurobi Optimizer version 12.0.3 build v12.0.3rc0 (win64 - Windows 10.0 (19045.2))\n",
      "\n",
      "CPU model: Intel(R) Core(TM) i7-6900K CPU @ 3.20GHz, instruction set [SSE2|AVX|AVX2]\n",
      "Thread count: 8 physical cores, 16 logical processors, using up to 16 threads\n",
      "\n",
      "Optimize a model with 3 rows, 2 columns and 6 nonzeros\n",
      "Model fingerprint: 0x93a5529a\n",
      "Coefficient statistics:\n",
      "  Matrix range     [1e+00, 2e+01]\n",
      "  Objective range  [1e+02, 2e+02]\n",
      "  Bounds range     [0e+00, 0e+00]\n",
      "  RHS range        [1e+03, 1e+04]\n",
      "Presolve time: 0.01s\n",
      "Presolved: 3 rows, 2 columns, 6 nonzeros\n",
      "\n",
      "Iteration    Objective       Primal Inf.    Dual Inf.      Time\n",
      "       0    8.0250000e+31   4.500000e+30   8.025000e+01      0s\n",
      "       2    1.7340000e+05   0.000000e+00   0.000000e+00      0s\n",
      "\n",
      "Solved in 2 iterations and 0.02 seconds (0.00 work units)\n",
      "Optimal objective  1.734000000e+05\n",
      "Optimal solution found!\n",
      "Number of Pro tablets to produce: 800.00\n",
      "Number of Mini tablets to produce: 200.00\n",
      "Maximum profit: $173400.00\n"
     ]
    }
   ],
   "source": [
    "import gurobipy as gp\n",
    "from gurobipy import GRB\n",
    "\n",
    "# Create model\n",
    "model = gp.Model(\"tablet_production\")\n",
    "\n",
    "# Decision variables (continuous, non-negative)\n",
    "x = model.addVar(name=\"Pro\", lb=0, vtype=GRB.CONTINUOUS)   # x1\n",
    "y = model.addVar(name=\"Mini\", lb=0, vtype=GRB.CONTINUOUS)  # x2\n",
    "\n",
    "# Set objective: Maximize 182 * x + 139 * y\n",
    "model.setObjective(182 * x + 139 * y, GRB.MAXIMIZE)\n",
    "\n",
    "# Add constraints\n",
    "model.addConstr(6 * x + 9 * y <= 7000, name=\"Labor_hours\")\n",
    "model.addConstr(x + y <= 1000, name=\"Chip_sets\")\n",
    "model.addConstr(15 * x + 10 * y <= 14000, name=\"Electronic_components\")\n",
    "\n",
    "# Optimize model\n",
    "model.optimize()\n",
    "\n",
    "# Print results\n",
    "if model.status == GRB.OPTIMAL:\n",
    "    print(\"Optimal solution found!\")\n",
    "    print(f\"Number of Pro tablets to produce: {x.X:.2f}\")\n",
    "    print(f\"Number of Mini tablets to produce: {y.X:.2f}\")\n",
    "    print(f\"Maximum profit: ${model.ObjVal:.2f}\")\n",
    "else:\n",
    "    print(\"Optimization failed.\")\n"
   ]
  },
  {
   "cell_type": "code",
   "execution_count": null,
   "id": "a67530f1-17c5-4a3f-a06e-1def921f1dc8",
   "metadata": {},
   "outputs": [],
   "source": []
  },
  {
   "cell_type": "markdown",
   "id": "88d4c861-4af3-4e99-9c3c-a0d59d27bc83",
   "metadata": {},
   "source": [
    "### with cha GPT"
   ]
  },
  {
   "cell_type": "code",
   "execution_count": 9,
   "id": "9ac81afc-5199-4962-9c02-fd85a2bcec51",
   "metadata": {},
   "outputs": [
    {
     "name": "stdout",
     "output_type": "stream",
     "text": [
      "Gurobi Optimizer version 12.0.3 build v12.0.3rc0 (win64 - Windows 10.0 (19045.2))\n",
      "\n",
      "CPU model: Intel(R) Core(TM) i7-6900K CPU @ 3.20GHz, instruction set [SSE2|AVX|AVX2]\n",
      "Thread count: 8 physical cores, 16 logical processors, using up to 16 threads\n",
      "\n",
      "Optimize a model with 8 rows, 16 columns and 32 nonzeros\n",
      "Model fingerprint: 0xf61d273b\n",
      "Coefficient statistics:\n",
      "  Matrix range     [1e+00, 1e+00]\n",
      "  Objective range  [1e+00, 4e+00]\n",
      "  Bounds range     [0e+00, 0e+00]\n",
      "  RHS range        [1e+01, 5e+01]\n",
      "Presolve removed 2 rows and 9 columns\n",
      "Presolve time: 0.00s\n",
      "Presolved: 6 rows, 7 columns, 14 nonzeros\n",
      "\n",
      "Iteration    Objective       Primal Inf.    Dual Inf.      Time\n",
      "       0    3.2000000e+02   5.000000e+00   0.000000e+00      0s\n",
      "       1    3.0000000e+02   0.000000e+00   0.000000e+00      0s\n",
      "\n",
      "Solved in 1 iterations and 0.01 seconds (0.00 work units)\n",
      "Optimal objective  3.000000000e+02\n",
      "✅ Optimal Shipment Matrix (rounded):\n",
      "S1: [0.0, 10.0, 0.0, 0.0]\n",
      "S2: [0.0, 20.0, 0.0, 0.0]\n",
      "S3: [0.0, 0.0, 0.0, 30.0]\n",
      "S4: [0.0, 0.0, 40.0, 0.0]\n",
      "\n",
      "📊 Objective Value (Excel cell E16): 300.0\n"
     ]
    }
   ],
   "source": [
    "import gurobipy as gp\n",
    "from gurobipy import GRB\n",
    "import numpy as np\n",
    "\n",
    "# === Sets ===\n",
    "supplies = ['S1', 'S2', 'S3', 'S4']\n",
    "demands = ['D1', 'D2', 'D3', 'D4']\n",
    "num_supplies = len(supplies)\n",
    "num_demands = len(demands)\n",
    "\n",
    "# === Parameters ===\n",
    "supply_capacity = [10, 20, 30, 40]           # J8:J11\n",
    "demand_max = [20, 30, 40, 50]                # E14:H14\n",
    "demand_weights = [1, 2, 3, 4]                # E16:H16\n",
    "\n",
    "# Feasibility Matrix (E8:H11) → 1 = allowed, 0 = forbidden\n",
    "feasibility = np.array([\n",
    "    [1, 1, 0, 0],\n",
    "    [0, 1, 1, 0],\n",
    "    [0, 0, 1, 1],\n",
    "    [1, 1, 1, 0]\n",
    "])\n",
    "\n",
    "# === Model ===\n",
    "model = gp.Model(\"Transportation_MaxWeightedDemand\")\n",
    "\n",
    "# === Variables: x[i,j] = flow from supply i to demand j\n",
    "x = {}\n",
    "for i in range(num_supplies):\n",
    "    for j in range(num_demands):\n",
    "        if feasibility[i, j] == 1:\n",
    "            x[i, j] = model.addVar(name=f\"x_{i}_{j}\", lb=0.0)\n",
    "        else:\n",
    "            x[i, j] = model.addVar(name=f\"x_{i}_{j}\", lb=0.0, ub=0.0)  # force to 0\n",
    "\n",
    "# === Objective: Maximize weighted fulfilled demand\n",
    "model.setObjective(\n",
    "    gp.quicksum(demand_weights[j] * x[i, j] for i in range(num_supplies) for j in range(num_demands)),\n",
    "    GRB.MAXIMIZE\n",
    ")\n",
    "\n",
    "# === Constraints ===\n",
    "\n",
    "# Supply capacity\n",
    "for i in range(num_supplies):\n",
    "    model.addConstr(\n",
    "        gp.quicksum(x[i, j] for j in range(num_demands)) <= supply_capacity[i],\n",
    "        name=f\"supply_cap_{i}\"\n",
    "    )\n",
    "\n",
    "# Demand upper bounds\n",
    "for j in range(num_demands):\n",
    "    model.addConstr(\n",
    "        gp.quicksum(x[i, j] for i in range(num_supplies)) <= demand_max[j],\n",
    "        name=f\"demand_max_{j}\"\n",
    "    )\n",
    "\n",
    "# === Solve the model ===\n",
    "model.optimize()\n",
    "\n",
    "# === Output ===\n",
    "print(\"✅ Optimal Shipment Matrix (rounded):\")\n",
    "for i in range(num_supplies):\n",
    "    row = []\n",
    "    for j in range(num_demands):\n",
    "        row.append(round(x[i, j].X, 2))\n",
    "    print(f\"{supplies[i]}: {row}\")\n",
    "\n",
    "print(f\"\\n📊 Objective Value (Excel cell E16): {round(model.ObjVal, 2)}\")"
   ]
  },
  {
   "cell_type": "code",
   "execution_count": null,
   "id": "aab80bf7-902b-4c99-a051-5927bf76bf39",
   "metadata": {},
   "outputs": [],
   "source": []
  }
 ],
 "metadata": {
  "kernelspec": {
   "display_name": "Python 3 (ipykernel)",
   "language": "python",
   "name": "python3"
  },
  "language_info": {
   "codemirror_mode": {
    "name": "ipython",
    "version": 3
   },
   "file_extension": ".py",
   "mimetype": "text/x-python",
   "name": "python",
   "nbconvert_exporter": "python",
   "pygments_lexer": "ipython3",
   "version": "3.12.11"
  }
 },
 "nbformat": 4,
 "nbformat_minor": 5
}
