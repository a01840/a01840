{
 "cells": [
  {
   "cell_type": "markdown",
   "id": "8e24d431-f4d4-4fda-8a6c-915ad7d98785",
   "metadata": {},
   "source": [
    "Lineare Optimierung “Andere“\n",
    "\n",
    "https://www.linkedin.com/feed/update/urn:li:activity:7350506543697543172/?midToken=AQHuucnYWQcIEA&midSig=2gKBl76uwTSXQ1&trk=eml-email_groups_recomm"
   ]
  },
  {
   "cell_type": "markdown",
   "id": "77247fe5-e105-4e3c-8d32-f4b326a80f8d",
   "metadata": {},
   "source": [
    "\n",
    "\n",
    "🟢 𝗦𝗰𝗶𝗣𝘆 (𝘀𝗰𝗶𝗽𝘆.𝗼𝗽𝘁𝗶𝗺𝗶𝘇𝗲) - 𝟭𝟯.𝟭𝗸 ⭐\n",
    "SciPy’s optimization module includes constrained and unconstrained optimization like linear and nonlinear programming.\n",
    "\n",
    "A mature, versatile choice, widely adopted in science and engineering.\n",
    "\n",
    "🟢 𝗚𝗼𝗼𝗴𝗹𝗲 𝗢𝗥-𝗧𝗼𝗼𝗹𝘀 - 𝟭𝟭.𝟮𝗸 ⭐\n",
    "Ideal for combinatorial optimization (routing, scheduling), supporting linear and integer programming.\n",
    "\n",
    "Highly efficient for complex operational research tasks.\n",
    "\n",
    "🟢 𝗢𝗽𝘁𝘂𝗻𝗮 - 𝟭𝟬.𝟳𝗸 ⭐\n",
    "Optuna offers Bayesian optimization and pruning for solving complex tasks, including multi-objective optimization.\n",
    "\n",
    "Its flexible, define-by-run API adapts to various scenarios.\n",
    "\n",
    "🟢 𝗛𝘆𝗽𝗲𝗿𝗢𝗽𝘁 - 𝟳.𝟮𝗸 ⭐\n",
    "Known for TPE and Random Search, HyperOpt excels in resource scheduling and parameter selection.\n",
    "\n",
    "Scales across machines, optimizing large datasets effectively.\n",
    "\n",
    "🟢 𝗖𝗩𝗫𝗣𝗬 - 𝟱.𝟰𝗸 ⭐\n",
    "CVXPY is a modeling library for convex optimization, popular in machine learning and economics.\n",
    "\n",
    "Intuitive syntax makes complex convex problems easy to solve.\n",
    "\n",
    "🟢 𝗖𝗩𝗫𝗣𝗬 𝗟𝗮𝘆𝗲𝗿𝘀 - 𝟭.𝟴𝗸 ⭐\n",
    "An extension of CVXPY that embeds optimization layers in deep learning models, ideal for structured prediction and control within neural networks.\n",
    "\n",
    "Works with PyTorch and TensorFlow.\n",
    "\n",
    "🟢 𝗣𝘂𝗟𝗣 - 𝟮.𝟭𝗸 ⭐\n",
    "A user-friendly library for linear and integer programming, suitable for prototyping, resource allocation, and scheduling.\n",
    "\n",
    "Effective for small to medium LP problems.\n",
    "\n",
    "🟢 𝗣𝘆𝗼𝗺𝗼 - 𝟮𝗸 ⭐\n",
    "Flexible for large-scale optimization, supporting linear, nonlinear, and mixed-integer programming.\n",
    "\n",
    "Used widely in energy systems and logistics, with strong multi-stage problem support.\n",
    "\n",
    "🟢 𝗖𝗮𝘀𝗔𝗗𝗶 - 𝟭.𝟳𝗸 ⭐\n",
    "A framework for dynamic optimization, used in engineering for real-time control.\n",
    "\n",
    "Efficient handling of symbolic expressions makes it ideal for scientific computing.\n",
    "\n",
    "🟢 𝗣𝘆𝗚𝗔𝗗 - 𝟭.𝟳𝗸 ⭐\n",
    "A Genetic Algorithm library for combinatorial/discrete optimization.\n"
   ]
  },
  {
   "cell_type": "code",
   "execution_count": null,
   "id": "788f3c40-3599-400d-b8f5-fb49815b7f29",
   "metadata": {
    "jupyter": {
     "source_hidden": true
    }
   },
   "outputs": [],
   "source": []
  },
  {
   "cell_type": "code",
   "execution_count": null,
   "id": "c701fc6e-dc86-4eda-8c47-e8abe842835d",
   "metadata": {},
   "outputs": [],
   "source": []
  },
  {
   "cell_type": "markdown",
   "id": "80684677-b4a1-4b22-9840-e4ef7733441b",
   "metadata": {},
   "source": [
    "🟢 𝗖𝗩𝗫𝗣𝗬 𝗟𝗮𝘆𝗲𝗿𝘀 - 𝟭.𝟴𝗸 ⭐"
   ]
  },
  {
   "cell_type": "markdown",
   "id": "f80a938f-ed97-48e0-b56e-ea58bdd245ff",
   "metadata": {},
   "source": [
    "https://pypi.org/project/cvxpylayers/"
   ]
  },
  {
   "cell_type": "markdown",
   "id": "2f1ea3e5-3a64-4c54-92ca-af49d1c13c59",
   "metadata": {},
   "source": [
    "Enables differentiable optimization, perfect for integrating LP/QP problems into deep learning pipelines\n",
    "Works with ***PyTorch tensors*** and allows backpropagation through the solution of a convex optimization problem."
   ]
  },
  {
   "cell_type": "code",
   "execution_count": 2,
   "id": "70ef6b8b-620f-4ffd-9786-12c6b886e7b4",
   "metadata": {},
   "outputs": [
    {
     "name": "stdout",
     "output_type": "stream",
     "text": [
      "0.1.9\n"
     ]
    }
   ],
   "source": [
    "import cvxpylayers\n",
    "print(cvxpylayers.__version__)"
   ]
  },
  {
   "cell_type": "code",
   "execution_count": 3,
   "id": "5069e6ae-7150-470f-9382-80bb34c7d823",
   "metadata": {},
   "outputs": [
    {
     "name": "stderr",
     "output_type": "stream",
     "text": [
      "(CVXPY) Jul 26 10:23:01 PM: Encountered unexpected exception importing solver GLOP:\n",
      "RuntimeError('Unrecognized new version of ortools (9.14.6206). Expected < 9.12.0. Please open a feature request on cvxpy to enable support for this version.')\n",
      "(CVXPY) Jul 26 10:23:01 PM: Encountered unexpected exception importing solver PDLP:\n",
      "RuntimeError('Unrecognized new version of ortools (9.14.6206). Expected < 9.12.0. Please open a feature request on cvxpy to enable support for this version.')\n"
     ]
    },
    {
     "name": "stdout",
     "output_type": "stream",
     "text": [
      "Optimal solution found!\n",
      "Number of Pro tablets to produce: 800.00\n",
      "Number of Mini tablets to produce: 200.00\n",
      "Maximum profit: $173400.03\n"
     ]
    },
    {
     "name": "stderr",
     "output_type": "stream",
     "text": [
      "C:\\ProgramData\\anaconda3\\envs\\Lin_Opt\\Lib\\site-packages\\scs\\__init__.py:96: UserWarning: Converting A to a CSC (compressed sparse column) matrix; may take a while.\n",
      "  warn(\n"
     ]
    }
   ],
   "source": [
    "import torch\n",
    "import cvxpy as cp\n",
    "from cvxpylayers.torch import CvxpyLayer\n",
    "\n",
    "# Define CVXPY variables\n",
    "x = cp.Variable(2, nonneg=True)  # [x_pro, x_mini]\n",
    "\n",
    "# Parameters for constraints and objective\n",
    "A = cp.Parameter((3, 2))         # Constraint coefficients\n",
    "b = cp.Parameter(3)              # Constraint bounds\n",
    "c = cp.Parameter(2)              # Objective coefficients\n",
    "\n",
    "# Define problem: maximize cᵀx → minimize -cᵀx\n",
    "objective = cp.Minimize(-c @ x)\n",
    "constraints = [A @ x <= b]\n",
    "problem = cp.Problem(objective, constraints)\n",
    "\n",
    "# Convert to differentiable layer\n",
    "cvxpylayer = CvxpyLayer(problem, parameters=[A, b, c], variables=[x])\n",
    "\n",
    "# Torch inputs\n",
    "A_torch = torch.tensor([[6.0, 9.0], [1.0, 1.0], [15.0, 10.0]])\n",
    "b_torch = torch.tensor([7000.0, 1000.0, 14000.0])\n",
    "c_torch = torch.tensor([182.0, 139.0])\n",
    "\n",
    "# Solve the problem\n",
    "solution, = cvxpylayer(A_torch, b_torch, c_torch)\n",
    "x_pro, x_mini = solution\n",
    "\n",
    "# Compute maximum profit\n",
    "profit = (x_pro * c_torch[0] + x_mini * c_torch[1]).item()\n",
    "\n",
    "# Output results\n",
    "print(\"Optimal solution found!\")\n",
    "print(f\"Number of Pro tablets to produce: {x_pro.item():.2f}\")\n",
    "print(f\"Number of Mini tablets to produce: {x_mini.item():.2f}\")\n",
    "print(f\"Maximum profit: ${profit:.2f}\")"
   ]
  },
  {
   "cell_type": "code",
   "execution_count": null,
   "id": "62cbb83e-7509-413e-83fd-5557b9110f31",
   "metadata": {},
   "outputs": [],
   "source": []
  },
  {
   "cell_type": "markdown",
   "id": "641cdd80-6505-4fe7-b017-743d92fbf7b1",
   "metadata": {},
   "source": [
    "### Chat GPT"
   ]
  },
  {
   "cell_type": "code",
   "execution_count": 3,
   "id": "2d7cbf1c-cc93-45de-a778-dec0f4edf1e4",
   "metadata": {},
   "outputs": [
    {
     "name": "stderr",
     "output_type": "stream",
     "text": [
      "(CVXPY) Aug 01 10:38:48 PM: Encountered unexpected exception importing solver GLOP:\n",
      "RuntimeError('Unrecognized new version of ortools (9.14.6206). Expected < 9.12.0. Please open a feature request on cvxpy to enable support for this version.')\n",
      "(CVXPY) Aug 01 10:38:48 PM: Encountered unexpected exception importing solver PDLP:\n",
      "RuntimeError('Unrecognized new version of ortools (9.14.6206). Expected < 9.12.0. Please open a feature request on cvxpy to enable support for this version.')\n"
     ]
    },
    {
     "name": "stdout",
     "output_type": "stream",
     "text": [
      "✅ Optimal Shipment Matrix (S1–S4 to D1–D4):\n",
      "\n",
      "S1: [ 0. 10.  0.  0.]\n",
      "S2: [ 0.    6.85 13.15 -0.  ]\n",
      "S3: [ 0.  0.  0. 30.]\n",
      "S4: [ 0.   13.16 26.84 -0.  ]\n",
      "\n",
      "📊 Value in Excel cell E16 (Objective Function): 299.98\n"
     ]
    },
    {
     "name": "stderr",
     "output_type": "stream",
     "text": [
      "C:\\ProgramData\\anaconda3\\envs\\Lin_Opt\\Lib\\site-packages\\scs\\__init__.py:96: UserWarning: Converting A to a CSC (compressed sparse column) matrix; may take a while.\n",
      "  warn(\n"
     ]
    }
   ],
   "source": [
    "import torch\n",
    "import numpy as np\n",
    "import cvxpy as cp\n",
    "from cvxpylayers.torch import CvxpyLayer\n",
    "\n",
    "# === Problem dimensions ===\n",
    "num_supplies = 4\n",
    "num_demands = 4\n",
    "\n",
    "# Feasibility mask (E8:H11)\n",
    "feasibility = torch.tensor([\n",
    "    [1, 1, 0, 0],\n",
    "    [0, 1, 1, 0],\n",
    "    [0, 0, 1, 1],\n",
    "    [1, 1, 1, 0]\n",
    "], dtype=torch.float32)\n",
    "\n",
    "# Supply capacity (J8:J11)\n",
    "supply_capacity = torch.tensor([10, 20, 30, 40], dtype=torch.float32)\n",
    "\n",
    "# Demand max (E14:H14)\n",
    "demand_max = torch.tensor([20, 30, 40, 50], dtype=torch.float32)\n",
    "\n",
    "# Weights (E16:H16)\n",
    "demand_weights = torch.tensor([1, 2, 3, 4], dtype=torch.float32)\n",
    "\n",
    "# === Define CVXPY variables ===\n",
    "X = cp.Variable((num_supplies, num_demands))\n",
    "\n",
    "# Parameters\n",
    "s_param = cp.Parameter(num_supplies)\n",
    "d_param = cp.Parameter(num_demands)\n",
    "w_param = cp.Parameter(num_demands)\n",
    "\n",
    "# Objective: maximize weighted demand (sum over cols)\n",
    "objective = cp.Maximize(cp.sum(cp.multiply(w_param, cp.sum(X, axis=0))))\n",
    "\n",
    "# Constraints\n",
    "constraints = []\n",
    "\n",
    "# Supply constraints\n",
    "for i in range(num_supplies):\n",
    "    constraints.append(cp.sum(X[i, :]) <= s_param[i])\n",
    "\n",
    "# Demand constraints\n",
    "for j in range(num_demands):\n",
    "    constraints.append(cp.sum(X[:, j]) <= d_param[j])\n",
    "\n",
    "# Feasibility mask (x[i,j] = 0 if not allowed)\n",
    "for i in range(num_supplies):\n",
    "    for j in range(num_demands):\n",
    "        if feasibility[i, j] == 0:\n",
    "            constraints.append(X[i, j] == 0)\n",
    "        else:\n",
    "            constraints.append(X[i, j] >= 0)\n",
    "\n",
    "# === Build CVXPY Layer ===\n",
    "problem = cp.Problem(objective, constraints)\n",
    "assert problem.is_dpp()\n",
    "\n",
    "layer = CvxpyLayer(problem, parameters=[s_param, d_param, w_param], variables=[X])\n",
    "\n",
    "# === Solve with PyTorch ===\n",
    "X_opt, = layer(supply_capacity, demand_max, demand_weights)\n",
    "\n",
    "# === Print results ===\n",
    "X_opt_np = X_opt.detach().numpy()\n",
    "print(\"✅ Optimal Shipment Matrix (S1–S4 to D1–D4):\\n\")\n",
    "for i in range(num_supplies):\n",
    "    print(f\"S{i+1}: {np.round(X_opt_np[i], 2)}\")\n",
    "\n",
    "objective_value = torch.sum(X_opt.sum(dim=0) * demand_weights).item()\n",
    "print(f\"\\n📊 Value in Excel cell E16 (Objective Function): {round(objective_value, 2)}\")"
   ]
  },
  {
   "cell_type": "code",
   "execution_count": 6,
   "id": "905c415b-ff81-4dd9-9146-6f954cc52dae",
   "metadata": {},
   "outputs": [
    {
     "data": {
      "text/plain": [
       "299.99"
      ]
     },
     "execution_count": 6,
     "metadata": {},
     "output_type": "execute_result"
    }
   ],
   "source": [
    "10*2+6.85*2+13.15*3+30*4+13.16*2+26.84*3"
   ]
  },
  {
   "cell_type": "code",
   "execution_count": null,
   "id": "41e28fec-7367-48d1-99ed-2eb7399556e8",
   "metadata": {},
   "outputs": [],
   "source": []
  }
 ],
 "metadata": {
  "kernelspec": {
   "display_name": "Python 3 (ipykernel)",
   "language": "python",
   "name": "python3"
  },
  "language_info": {
   "codemirror_mode": {
    "name": "ipython",
    "version": 3
   },
   "file_extension": ".py",
   "mimetype": "text/x-python",
   "name": "python",
   "nbconvert_exporter": "python",
   "pygments_lexer": "ipython3",
   "version": "3.12.11"
  }
 },
 "nbformat": 4,
 "nbformat_minor": 5
}
