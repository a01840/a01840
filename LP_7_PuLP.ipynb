{
 "cells": [
  {
   "cell_type": "markdown",
   "id": "8e24d431-f4d4-4fda-8a6c-915ad7d98785",
   "metadata": {},
   "source": [
    "Lineare Optimierung “Andere“\n",
    "\n",
    "https://www.linkedin.com/feed/update/urn:li:activity:7350506543697543172/?midToken=AQHuucnYWQcIEA&midSig=2gKBl76uwTSXQ1&trk=eml-email_groups_recomm"
   ]
  },
  {
   "cell_type": "markdown",
   "id": "77247fe5-e105-4e3c-8d32-f4b326a80f8d",
   "metadata": {},
   "source": [
    "\n",
    "\n",
    "🟢 𝗦𝗰𝗶𝗣𝘆 (𝘀𝗰𝗶𝗽𝘆.𝗼𝗽𝘁𝗶𝗺𝗶𝘇𝗲) - 𝟭𝟯.𝟭𝗸 ⭐\n",
    "SciPy’s optimization module includes constrained and unconstrained optimization like linear and nonlinear programming.\n",
    "\n",
    "A mature, versatile choice, widely adopted in science and engineering.\n",
    "\n",
    "🟢 𝗚𝗼𝗼𝗴𝗹𝗲 𝗢𝗥-𝗧𝗼𝗼𝗹𝘀 - 𝟭𝟭.𝟮𝗸 ⭐\n",
    "Ideal for combinatorial optimization (routing, scheduling), supporting linear and integer programming.\n",
    "\n",
    "Highly efficient for complex operational research tasks.\n",
    "\n",
    "🟢 𝗢𝗽𝘁𝘂𝗻𝗮 - 𝟭𝟬.𝟳𝗸 ⭐\n",
    "Optuna offers Bayesian optimization and pruning for solving complex tasks, including multi-objective optimization.\n",
    "\n",
    "Its flexible, define-by-run API adapts to various scenarios.\n",
    "\n",
    "🟢 𝗛𝘆𝗽𝗲𝗿𝗢𝗽𝘁 - 𝟳.𝟮𝗸 ⭐\n",
    "Known for TPE and Random Search, HyperOpt excels in resource scheduling and parameter selection.\n",
    "\n",
    "Scales across machines, optimizing large datasets effectively.\n",
    "\n",
    "🟢 𝗖𝗩𝗫𝗣𝗬 - 𝟱.𝟰𝗸 ⭐\n",
    "CVXPY is a modeling library for convex optimization, popular in machine learning and economics.\n",
    "\n",
    "Intuitive syntax makes complex convex problems easy to solve.\n",
    "\n",
    "🟢 𝗖𝗩𝗫𝗣𝗬 𝗟𝗮𝘆𝗲𝗿𝘀 - 𝟭.𝟴𝗸 ⭐\n",
    "An extension of CVXPY that embeds optimization layers in deep learning models, ideal for structured prediction and control within neural networks.\n",
    "\n",
    "Works with PyTorch and TensorFlow.\n",
    "\n",
    "🟢 𝗣𝘂𝗟𝗣 - 𝟮.𝟭𝗸 ⭐\n",
    "A user-friendly library for linear and integer programming, suitable for prototyping, resource allocation, and scheduling.\n",
    "\n",
    "Effective for small to medium LP problems.\n",
    "\n",
    "🟢 𝗣𝘆𝗼𝗺𝗼 - 𝟮𝗸 ⭐\n",
    "Flexible for large-scale optimization, supporting linear, nonlinear, and mixed-integer programming.\n",
    "\n",
    "Used widely in energy systems and logistics, with strong multi-stage problem support.\n",
    "\n",
    "🟢 𝗖𝗮𝘀𝗔𝗗𝗶 - 𝟭.𝟳𝗸 ⭐\n",
    "A framework for dynamic optimization, used in engineering for real-time control.\n",
    "\n",
    "Efficient handling of symbolic expressions makes it ideal for scientific computing.\n",
    "\n",
    "🟢 𝗣𝘆𝗚𝗔𝗗 - 𝟭.𝟳𝗸 ⭐\n",
    "A Genetic Algorithm library for combinatorial/discrete optimization.\n"
   ]
  },
  {
   "cell_type": "code",
   "execution_count": null,
   "id": "788f3c40-3599-400d-b8f5-fb49815b7f29",
   "metadata": {
    "jupyter": {
     "source_hidden": true
    }
   },
   "outputs": [],
   "source": []
  },
  {
   "cell_type": "code",
   "execution_count": null,
   "id": "c701fc6e-dc86-4eda-8c47-e8abe842835d",
   "metadata": {},
   "outputs": [],
   "source": []
  },
  {
   "cell_type": "markdown",
   "id": "80684677-b4a1-4b22-9840-e4ef7733441b",
   "metadata": {},
   "source": [
    "🟢 𝗣𝘂𝗟𝗣 - 𝟮.𝟭𝗸 ⭐"
   ]
  },
  {
   "cell_type": "markdown",
   "id": "f80a938f-ed97-48e0-b56e-ea58bdd245ff",
   "metadata": {},
   "source": [
    "https://pypi.org/project/PuLP/"
   ]
  },
  {
   "cell_type": "code",
   "execution_count": 2,
   "id": "70ef6b8b-620f-4ffd-9786-12c6b886e7b4",
   "metadata": {},
   "outputs": [
    {
     "name": "stdout",
     "output_type": "stream",
     "text": [
      "3.0.2\n"
     ]
    }
   ],
   "source": [
    "import pulp\n",
    "print(pulp.__version__)"
   ]
  },
  {
   "cell_type": "code",
   "execution_count": 2,
   "id": "62cbb83e-7509-413e-83fd-5557b9110f31",
   "metadata": {},
   "outputs": [
    {
     "name": "stdout",
     "output_type": "stream",
     "text": [
      "Optimal solution found!\n",
      "Number of Pro tablets to produce: 800.00\n",
      "Number of Mini tablets to produce: 200.00\n",
      "Maximum profit: $173400.00\n"
     ]
    }
   ],
   "source": [
    "from pulp import LpMaximize, LpProblem, LpVariable, value\n",
    "\n",
    "# Create a linear programming problem (maximize profit)\n",
    "model = LpProblem(name=\"tablet-production\", sense=LpMaximize)\n",
    "\n",
    "# Decision variables (Pro and Mini tablets)\n",
    "x = LpVariable(name=\"Pro\", lowBound=0)   # x1 ≥ 0\n",
    "y = LpVariable(name=\"Mini\", lowBound=0)  # x2 ≥ 0\n",
    "\n",
    "# Objective function: Maximize 182*x + 139*y\n",
    "model += 182 * x + 139 * y, \"Total_Profit\"\n",
    "\n",
    "# Constraints\n",
    "model += 6 * x + 9 * y <= 7000, \"Labor_hours\"\n",
    "model += x + y <= 1000, \"Chip_sets\"\n",
    "model += 15 * x + 10 * y <= 14000, \"Electronic_components\"\n",
    "\n",
    "# Solve the problem\n",
    "status = model.solve()\n",
    "\n",
    "# Output results\n",
    "print(\"Optimal solution found!\")\n",
    "print(f\"Number of Pro tablets to produce: {x.varValue:.2f}\")\n",
    "print(f\"Number of Mini tablets to produce: {y.varValue:.2f}\")\n",
    "print(f\"Maximum profit: ${value(model.objective):.2f}\")"
   ]
  },
  {
   "cell_type": "code",
   "execution_count": null,
   "id": "86de8226-cbcd-4c5d-8bb9-412d64e3798f",
   "metadata": {},
   "outputs": [],
   "source": []
  },
  {
   "cell_type": "markdown",
   "id": "6e101096-e97c-4036-89cb-2fe6cf369f43",
   "metadata": {},
   "source": [
    "# Full PuLP Code: Maximize Fulfilled Demand with Feasibility Matrix"
   ]
  },
  {
   "cell_type": "markdown",
   "id": "d0829cf5-2aa1-43c8-9541-ce5adcf03782",
   "metadata": {},
   "source": [
    "### with Chat GPT"
   ]
  },
  {
   "cell_type": "code",
   "execution_count": 4,
   "id": "5ed84746-c10f-4848-b308-a458c610cd7f",
   "metadata": {},
   "outputs": [
    {
     "name": "stdout",
     "output_type": "stream",
     "text": [
      "✅ Optimal Shipment Matrix (S1–S4 to D1–D4):\n",
      "\n",
      "S1: [0.0, 10.0, 0.0, 0.0]\n",
      "S2: [0.0, 0.0, 20.0, 0.0]\n",
      "S3: [0.0, 0.0, 0.0, 30.0]\n",
      "S4: [20.0, 0.0, 20.0, 0.0]\n",
      "\n",
      "📦 Maximum Total Fulfilled Demand: 100.0\n",
      "\n",
      "📊 Value in Excel cell E16 (Objective Function): 100.0\n"
     ]
    }
   ],
   "source": [
    "import pulp as pl\n",
    "import numpy as np\n",
    "\n",
    "# === Problem data ===\n",
    "\n",
    "supplies = [\"S1\", \"S2\", \"S3\", \"S4\"]\n",
    "demands = [\"D1\", \"D2\", \"D3\", \"D4\"]\n",
    "\n",
    "# Max supply capacity (from J8:J11)\n",
    "supply_capacity = {\n",
    "    \"S1\": 10,\n",
    "    \"S2\": 20,\n",
    "    \"S3\": 30,\n",
    "    \"S4\": 40\n",
    "}\n",
    "\n",
    "# Max demand (from E14:H14)\n",
    "demand_max = {\n",
    "    \"D1\": 20,\n",
    "    \"D2\": 30,\n",
    "    \"D3\": 40,\n",
    "    \"D4\": 50\n",
    "}\n",
    "\n",
    "# Feasibility matrix from E8:H11\n",
    "feasibility = {\n",
    "    (\"S1\", \"D1\"): 1, (\"S1\", \"D2\"): 1, (\"S1\", \"D3\"): 0, (\"S1\", \"D4\"): 0,\n",
    "    (\"S2\", \"D1\"): 0, (\"S2\", \"D2\"): 1, (\"S2\", \"D3\"): 1, (\"S2\", \"D4\"): 0,\n",
    "    (\"S3\", \"D1\"): 0, (\"S3\", \"D2\"): 0, (\"S3\", \"D3\"): 1, (\"S3\", \"D4\"): 1,\n",
    "    (\"S4\", \"D1\"): 1, (\"S4\", \"D2\"): 1, (\"S4\", \"D3\"): 1, (\"S4\", \"D4\"): 0\n",
    "}\n",
    "\n",
    "# === Define LP problem ===\n",
    "model = pl.LpProblem(\"Maximize_Fulfilled_Demand\", pl.LpMaximize)\n",
    "\n",
    "# === Decision variables ===\n",
    "x = pl.LpVariable.dicts(\"x\", [(s, d) for s in supplies for d in demands],\n",
    "                        lowBound=0, cat=\"Continuous\")\n",
    "\n",
    "# === Objective function: Maximize total fulfilled demand ===\n",
    "model += pl.lpSum(x[s, d] for s in supplies for d in demands if feasibility[(s, d)] == 1), \"TotalFulfilledDemand\"\n",
    "\n",
    "# === Supply constraints (each supply cannot exceed capacity) ===\n",
    "for s in supplies:\n",
    "    model += pl.lpSum(x[s, d] for d in demands if feasibility[(s, d)] == 1) <= supply_capacity[s], f\"SupplyCap_{s}\"\n",
    "\n",
    "# === Demand constraints (each demand must not be over-fulfilled) ===\n",
    "for d in demands:\n",
    "    model += pl.lpSum(x[s, d] for s in supplies if feasibility[(s, d)] == 1) <= demand_max[d], f\"DemandMax_{d}\"\n",
    "\n",
    "# === Set infeasible combinations to zero ===\n",
    "for s in supplies:\n",
    "    for d in demands:\n",
    "        if feasibility[(s, d)] == 0:\n",
    "            model += x[s, d] == 0, f\"Infeasible_{s}_{d}\"\n",
    "\n",
    "# === Solve ===\n",
    "status = model.solve()\n",
    "\n",
    "# === Output results ===\n",
    "if pl.LpStatus[status] == \"Optimal\":\n",
    "    print(\"✅ Optimal Shipment Matrix (S1–S4 to D1–D4):\\n\")\n",
    "    for s in supplies:\n",
    "        row = [round(pl.value(x[s, d]), 2) for d in demands]\n",
    "        print(f\"{s}: {row}\")\n",
    "    \n",
    "    objective = pl.value(model.objective)\n",
    "    print(\"\\n📦 Maximum Total Fulfilled Demand:\", objective)\n",
    "    print(\"\\n📊 Value in Excel cell E16 (Objective Function):\", objective)\n",
    "else:\n",
    "    print(\"❌ Optimization failed:\", pl.LpStatus[status])"
   ]
  },
  {
   "cell_type": "code",
   "execution_count": null,
   "id": "07eba22e-eacb-480c-8bf4-f40ab00004eb",
   "metadata": {},
   "outputs": [],
   "source": []
  },
  {
   "cell_type": "code",
   "execution_count": 3,
   "id": "74bdb1c3-0f12-462c-84a1-f9ea7a18c5e5",
   "metadata": {},
   "outputs": [
    {
     "name": "stdout",
     "output_type": "stream",
     "text": [
      "✅ Optimal Shipment Matrix (S1–S4 to D1–D4):\n",
      "\n",
      "S1: [0.0, 10.0, 0.0, 0.0]\n",
      "S2: [0.0, 0.0, 20.0, 0.0]\n",
      "S3: [0.0, 0.0, 0.0, 30.0]\n",
      "S4: [0.0, 20.0, 20.0, 0.0]\n",
      "\n",
      "📦 Maximum Weighted Fulfilled Demand: 300.0\n",
      "\n",
      "📊 Value in Excel cell E16 (Objective Function): 300.0\n"
     ]
    }
   ],
   "source": [
    "import pulp as pl\n",
    "import numpy as np\n",
    "\n",
    "# === Problem data ===\n",
    "\n",
    "supplies = [\"S1\", \"S2\", \"S3\", \"S4\"]\n",
    "demands = [\"D1\", \"D2\", \"D3\", \"D4\"]\n",
    "\n",
    "# Supply capacity (from J8:J11)\n",
    "supply_capacity = {\n",
    "    \"S1\": 10,\n",
    "    \"S2\": 20,\n",
    "    \"S3\": 30,\n",
    "    \"S4\": 40\n",
    "}\n",
    "\n",
    "# Maximum demand (from E14:H14)\n",
    "demand_max = {\n",
    "    \"D1\": 20,\n",
    "    \"D2\": 30,\n",
    "    \"D3\": 40,\n",
    "    \"D4\": 50\n",
    "}\n",
    "\n",
    "# Weights (from E16:H16)\n",
    "demand_weight = {\n",
    "    \"D1\": 1,\n",
    "    \"D2\": 2,\n",
    "    \"D3\": 3,\n",
    "    \"D4\": 4\n",
    "}\n",
    "\n",
    "# Feasibility matrix from E8:H11\n",
    "feasibility = {\n",
    "    (\"S1\", \"D1\"): 1, (\"S1\", \"D2\"): 1, (\"S1\", \"D3\"): 0, (\"S1\", \"D4\"): 0,\n",
    "    (\"S2\", \"D1\"): 0, (\"S2\", \"D2\"): 1, (\"S2\", \"D3\"): 1, (\"S2\", \"D4\"): 0,\n",
    "    (\"S3\", \"D1\"): 0, (\"S3\", \"D2\"): 0, (\"S3\", \"D3\"): 1, (\"S3\", \"D4\"): 1,\n",
    "    (\"S4\", \"D1\"): 1, (\"S4\", \"D2\"): 1, (\"S4\", \"D3\"): 1, (\"S4\", \"D4\"): 0\n",
    "}\n",
    "\n",
    "# === Define LP problem ===\n",
    "model = pl.LpProblem(\"Maximize_Weighted_Fulfilled_Demand\", pl.LpMaximize)\n",
    "\n",
    "# === Decision variables ===\n",
    "x = pl.LpVariable.dicts(\"x\", [(s, d) for s in supplies for d in demands],\n",
    "                        lowBound=0, cat=\"Continuous\")\n",
    "\n",
    "# === Objective function: weighted total fulfilled demand ===\n",
    "model += pl.lpSum(demand_weight[d] * x[s, d]\n",
    "                  for s in supplies for d in demands if feasibility[(s, d)] == 1), \"WeightedTotalFulfilledDemand\"\n",
    "\n",
    "# === Supply constraints (≤ supply capacity) ===\n",
    "for s in supplies:\n",
    "    model += pl.lpSum(x[s, d] for d in demands if feasibility[(s, d)] == 1) <= supply_capacity[s], f\"SupplyCap_{s}\"\n",
    "\n",
    "# === Demand constraints (≤ demand max) ===\n",
    "for d in demands:\n",
    "    model += pl.lpSum(x[s, d] for s in supplies if feasibility[(s, d)] == 1) <= demand_max[d], f\"DemandMax_{d}\"\n",
    "\n",
    "# === Infeasible connections (set to 0) ===\n",
    "for s in supplies:\n",
    "    for d in demands:\n",
    "        if feasibility[(s, d)] == 0:\n",
    "            model += x[s, d] == 0, f\"Infeasible_{s}_{d}\"\n",
    "\n",
    "# === Solve ===\n",
    "status = model.solve()\n",
    "\n",
    "# === Output ===\n",
    "if pl.LpStatus[status] == \"Optimal\":\n",
    "    print(\"✅ Optimal Shipment Matrix (S1–S4 to D1–D4):\\n\")\n",
    "    for s in supplies:\n",
    "        row = [round(pl.value(x[s, d]), 2) for d in demands]\n",
    "        print(f\"{s}: {row}\")\n",
    "    \n",
    "    objective = pl.value(model.objective)\n",
    "    print(\"\\n📦 Maximum Weighted Fulfilled Demand:\", objective)\n",
    "    print(\"\\n📊 Value in Excel cell E16 (Objective Function):\", objective)\n",
    "else:\n",
    "    print(\"❌ Optimization failed:\", pl.LpStatus[status])"
   ]
  },
  {
   "cell_type": "code",
   "execution_count": null,
   "id": "e65780be-e424-484f-b15d-da39bc4d5fc1",
   "metadata": {},
   "outputs": [],
   "source": []
  }
 ],
 "metadata": {
  "kernelspec": {
   "display_name": "Python 3 (ipykernel)",
   "language": "python",
   "name": "python3"
  },
  "language_info": {
   "codemirror_mode": {
    "name": "ipython",
    "version": 3
   },
   "file_extension": ".py",
   "mimetype": "text/x-python",
   "name": "python",
   "nbconvert_exporter": "python",
   "pygments_lexer": "ipython3",
   "version": "3.12.11"
  }
 },
 "nbformat": 4,
 "nbformat_minor": 5
}
