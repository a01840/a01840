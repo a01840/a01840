{
 "cells": [
  {
   "cell_type": "markdown",
   "id": "8e24d431-f4d4-4fda-8a6c-915ad7d98785",
   "metadata": {},
   "source": [
    "Lineare Optimierung “Andere“\n",
    "\n",
    "https://www.linkedin.com/feed/update/urn:li:activity:7350506543697543172/?midToken=AQHuucnYWQcIEA&midSig=2gKBl76uwTSXQ1&trk=eml-email_groups_recomm"
   ]
  },
  {
   "cell_type": "markdown",
   "id": "77247fe5-e105-4e3c-8d32-f4b326a80f8d",
   "metadata": {},
   "source": [
    "\n",
    "\n",
    "🟢 𝗦𝗰𝗶𝗣𝘆 (𝘀𝗰𝗶𝗽𝘆.𝗼𝗽𝘁𝗶𝗺𝗶𝘇𝗲) - 𝟭𝟯.𝟭𝗸 ⭐\n",
    "SciPy’s optimization module includes constrained and unconstrained optimization like linear and nonlinear programming.\n",
    "\n",
    "A mature, versatile choice, widely adopted in science and engineering.\n",
    "\n",
    "🟢 𝗚𝗼𝗼𝗴𝗹𝗲 𝗢𝗥-𝗧𝗼𝗼𝗹𝘀 - 𝟭𝟭.𝟮𝗸 ⭐\n",
    "Ideal for combinatorial optimization (routing, scheduling), supporting linear and integer programming.\n",
    "\n",
    "Highly efficient for complex operational research tasks.\n",
    "\n",
    "🟢 𝗢𝗽𝘁𝘂𝗻𝗮 - 𝟭𝟬.𝟳𝗸 ⭐\n",
    "Optuna offers Bayesian optimization and pruning for solving complex tasks, including multi-objective optimization.\n",
    "\n",
    "Its flexible, define-by-run API adapts to various scenarios.\n",
    "\n",
    "🟢 𝗛𝘆𝗽𝗲𝗿𝗢𝗽𝘁 - 𝟳.𝟮𝗸 ⭐\n",
    "Known for TPE and Random Search, HyperOpt excels in resource scheduling and parameter selection.\n",
    "\n",
    "Scales across machines, optimizing large datasets effectively.\n",
    "\n",
    "🟢 𝗖𝗩𝗫𝗣𝗬 - 𝟱.𝟰𝗸 ⭐\n",
    "CVXPY is a modeling library for convex optimization, popular in machine learning and economics.\n",
    "\n",
    "Intuitive syntax makes complex convex problems easy to solve.\n",
    "\n",
    "🟢 𝗖𝗩𝗫𝗣𝗬 𝗟𝗮𝘆𝗲𝗿𝘀 - 𝟭.𝟴𝗸 ⭐\n",
    "An extension of CVXPY that embeds optimization layers in deep learning models, ideal for structured prediction and control within neural networks.\n",
    "\n",
    "Works with PyTorch and TensorFlow.\n",
    "\n",
    "🟢 𝗣𝘂𝗟𝗣 - 𝟮.𝟭𝗸 ⭐\n",
    "A user-friendly library for linear and integer programming, suitable for prototyping, resource allocation, and scheduling.\n",
    "\n",
    "Effective for small to medium LP problems.\n",
    "\n",
    "🟢 𝗣𝘆𝗼𝗺𝗼 - 𝟮𝗸 ⭐\n",
    "Flexible for large-scale optimization, supporting linear, nonlinear, and mixed-integer programming.\n",
    "\n",
    "Used widely in energy systems and logistics, with strong multi-stage problem support.\n",
    "\n",
    "🟢 𝗖𝗮𝘀𝗔𝗗𝗶 - 𝟭.𝟳𝗸 ⭐\n",
    "A framework for dynamic optimization, used in engineering for real-time control.\n",
    "\n",
    "Efficient handling of symbolic expressions makes it ideal for scientific computing.\n",
    "\n",
    "🟢 𝗣𝘆𝗚𝗔𝗗 - 𝟭.𝟳𝗸 ⭐\n",
    "A Genetic Algorithm library for combinatorial/discrete optimization.\n"
   ]
  },
  {
   "cell_type": "code",
   "execution_count": null,
   "id": "788f3c40-3599-400d-b8f5-fb49815b7f29",
   "metadata": {
    "jupyter": {
     "source_hidden": true
    }
   },
   "outputs": [],
   "source": []
  },
  {
   "cell_type": "code",
   "execution_count": null,
   "id": "c701fc6e-dc86-4eda-8c47-e8abe842835d",
   "metadata": {},
   "outputs": [],
   "source": []
  },
  {
   "cell_type": "markdown",
   "id": "80684677-b4a1-4b22-9840-e4ef7733441b",
   "metadata": {},
   "source": [
    "🟢 𝗖𝗩𝗫𝗣𝗬 - 𝟱.𝟰𝗸 ⭐"
   ]
  },
  {
   "cell_type": "markdown",
   "id": "f80a938f-ed97-48e0-b56e-ea58bdd245ff",
   "metadata": {},
   "source": [
    "https://www.cvxpy.org/"
   ]
  },
  {
   "cell_type": "markdown",
   "id": "8dfc2427-abf0-4efc-9986-f8fb6e5266e5",
   "metadata": {},
   "source": [
    "CVXPY 1.7 supports GPU solvers."
   ]
  },
  {
   "cell_type": "code",
   "execution_count": 1,
   "id": "70ef6b8b-620f-4ffd-9786-12c6b886e7b4",
   "metadata": {},
   "outputs": [
    {
     "name": "stderr",
     "output_type": "stream",
     "text": [
      "(CVXPY) Aug 01 10:05:23 PM: Encountered unexpected exception importing solver GLOP:\n",
      "RuntimeError('Unrecognized new version of ortools (9.14.6206). Expected < 9.12.0. Please open a feature request on cvxpy to enable support for this version.')\n",
      "(CVXPY) Aug 01 10:05:23 PM: Encountered unexpected exception importing solver PDLP:\n",
      "RuntimeError('Unrecognized new version of ortools (9.14.6206). Expected < 9.12.0. Please open a feature request on cvxpy to enable support for this version.')\n"
     ]
    },
    {
     "name": "stdout",
     "output_type": "stream",
     "text": [
      "1.7.1\n"
     ]
    }
   ],
   "source": [
    "import cvxpy\n",
    "print(cvxpy.__version__)"
   ]
  },
  {
   "cell_type": "code",
   "execution_count": 3,
   "id": "9cbb01a5-e321-4121-811e-409af084c791",
   "metadata": {},
   "outputs": [
    {
     "name": "stdout",
     "output_type": "stream",
     "text": [
      "Optimal solution found!\n",
      "Number of Pro tablets to produce: 800.00\n",
      "Number of Mini tablets to produce: 200.00\n",
      "Maximum profit: $173400.00\n"
     ]
    }
   ],
   "source": [
    "import cvxpy as cp\n",
    "\n",
    "# Define variables (Pro = x, Mini = y)\n",
    "x = cp.Variable(name=\"Pro\", nonneg=True)\n",
    "y = cp.Variable(name=\"Mini\", nonneg=True)\n",
    "\n",
    "# Objective: maximize 182 * x + 139 * y\n",
    "objective = cp.Maximize(182 * x + 139 * y)\n",
    "\n",
    "# Constraints\n",
    "constraints = [\n",
    "    6 * x + 9 * y <= 7000,      # Labor hours\n",
    "    x + y <= 1000,              # Chip sets\n",
    "    15 * x + 10 * y <= 14000    # Electronic components\n",
    "]\n",
    "\n",
    "# Define and solve problem\n",
    "problem = cp.Problem(objective, constraints)\n",
    "problem.solve()\n",
    "\n",
    "# Output results\n",
    "if problem.status == cp.OPTIMAL:\n",
    "    print(\"Optimal solution found!\")\n",
    "    print(f\"Number of Pro tablets to produce: {x.value:.2f}\")\n",
    "    print(f\"Number of Mini tablets to produce: {y.value:.2f}\")\n",
    "    print(f\"Maximum profit: ${problem.value:.2f}\")\n",
    "else:\n",
    "    print(f\"Optimization failed with status: {problem.status}\")\n"
   ]
  },
  {
   "cell_type": "code",
   "execution_count": null,
   "id": "6f13989a-acb9-4128-8048-66e24d453979",
   "metadata": {},
   "outputs": [],
   "source": []
  },
  {
   "cell_type": "markdown",
   "id": "3f3c4cdf-6854-47ab-8f6c-e95fd3cbd85d",
   "metadata": {},
   "source": [
    "### ✅ Full Code in CVXPY with Chat GPT"
   ]
  },
  {
   "cell_type": "code",
   "execution_count": 2,
   "id": "91803a81-dc1c-49b9-ae40-a340d853b090",
   "metadata": {},
   "outputs": [
    {
     "name": "stdout",
     "output_type": "stream",
     "text": [
      "✅ Optimal Shipment Matrix (S1–S4 to D1–D4):\n",
      "\n",
      "S1: [np.float64(0.0), np.float64(10.0), np.float64(0.0), np.float64(0.0)]\n",
      "S2: [np.float64(0.0), np.float64(7.52), np.float64(12.48), np.float64(0.0)]\n",
      "S3: [np.float64(0.0), np.float64(0.0), np.float64(0.0), np.float64(30.0)]\n",
      "S4: [np.float64(0.0), np.float64(12.48), np.float64(27.52), np.float64(0.0)]\n",
      "\n",
      "📦 Maximum Weighted Fulfilled Demand: 300.0\n",
      "\n",
      "📊 Value in Excel cell E16 (Objective Function): 300.0\n"
     ]
    }
   ],
   "source": [
    "import cvxpy as cp\n",
    "import numpy as np\n",
    "\n",
    "# === Problem Data ===\n",
    "\n",
    "supplies = [\"S1\", \"S2\", \"S3\", \"S4\"]\n",
    "demands = [\"D1\", \"D2\", \"D3\", \"D4\"]\n",
    "num_supplies = len(supplies)\n",
    "num_demands = len(demands)\n",
    "\n",
    "# Supply capacities (J8:J11)\n",
    "supply_capacity = np.array([10, 20, 30, 40])  # shape: (4,)\n",
    "\n",
    "# Demand limits (E14:H14)\n",
    "demand_max = np.array([20, 30, 40, 50])  # shape: (4,)\n",
    "\n",
    "# Demand weights (E16:H16)\n",
    "demand_weights = np.array([1, 2, 3, 4])  # shape: (4,)\n",
    "\n",
    "# Feasibility matrix (E8:H11): 1 = allowed, 0 = forbidden\n",
    "feasibility = np.array([\n",
    "    [1, 1, 0, 0],  # S1 to D1, D2\n",
    "    [0, 1, 1, 0],  # S2 to D2, D3\n",
    "    [0, 0, 1, 1],  # S3 to D3, D4\n",
    "    [1, 1, 1, 0],  # S4 to D1, D2, D3\n",
    "], dtype=float)  # shape: (4, 4)\n",
    "\n",
    "# === Decision Variables ===\n",
    "X = cp.Variable((num_supplies, num_demands), nonneg=True)\n",
    "\n",
    "# === Objective Function: Maximize Weighted Fulfilled Demand ===\n",
    "objective = cp.Maximize(cp.sum(cp.multiply(demand_weights, cp.sum(X, axis=0))))\n",
    "\n",
    "# === Constraints ===\n",
    "constraints = []\n",
    "\n",
    "# Feasibility: disallow infeasible combinations (set them to 0)\n",
    "constraints.append(cp.multiply(1 - feasibility, X) == 0)\n",
    "\n",
    "# Supply limits (row sums)\n",
    "constraints.append(cp.sum(X, axis=1) <= supply_capacity)\n",
    "\n",
    "# Demand limits (column sums)\n",
    "constraints.append(cp.sum(X, axis=0) <= demand_max)\n",
    "\n",
    "# === Define and Solve Problem ===\n",
    "problem = cp.Problem(objective, constraints)\n",
    "problem.solve()\n",
    "\n",
    "# === Output ===\n",
    "if problem.status == cp.OPTIMAL:\n",
    "    shipment_matrix = X.value\n",
    "    print(\"✅ Optimal Shipment Matrix (S1–S4 to D1–D4):\\n\")\n",
    "    for i, row in enumerate(shipment_matrix):\n",
    "        rounded_row = [round(val, 2) for val in row]\n",
    "        print(f\"{supplies[i]}: {rounded_row}\")\n",
    "\n",
    "    print(\"\\n📦 Maximum Weighted Fulfilled Demand:\", round(problem.value, 2))\n",
    "    print(\"\\n📊 Value in Excel cell E16 (Objective Function):\", round(problem.value, 2))\n",
    "else:\n",
    "    print(\"❌ Optimization failed:\", problem.status)"
   ]
  },
  {
   "cell_type": "code",
   "execution_count": null,
   "id": "84b63921-252a-4ccc-ac60-dfcb3467397f",
   "metadata": {},
   "outputs": [],
   "source": []
  },
  {
   "cell_type": "markdown",
   "id": "c49bd6fc-0ec2-4c9e-8fae-0a54ae297ecd",
   "metadata": {},
   "source": [
    "### Check solution"
   ]
  },
  {
   "cell_type": "code",
   "execution_count": 7,
   "id": "765352bc-caaa-4af3-aabe-e05e4efeca03",
   "metadata": {},
   "outputs": [
    {
     "name": "stdout",
     "output_type": "stream",
     "text": [
      "300.0\n"
     ]
    }
   ],
   "source": [
    "print(10*2 + 7.52*2 + 12.48*3 + 30*4 + 12.48*2 + 27.52*3)"
   ]
  },
  {
   "cell_type": "code",
   "execution_count": null,
   "id": "5069e6ae-7150-470f-9382-80bb34c7d823",
   "metadata": {},
   "outputs": [],
   "source": []
  }
 ],
 "metadata": {
  "kernelspec": {
   "display_name": "Python 3 (ipykernel)",
   "language": "python",
   "name": "python3"
  },
  "language_info": {
   "codemirror_mode": {
    "name": "ipython",
    "version": 3
   },
   "file_extension": ".py",
   "mimetype": "text/x-python",
   "name": "python",
   "nbconvert_exporter": "python",
   "pygments_lexer": "ipython3",
   "version": "3.12.11"
  }
 },
 "nbformat": 4,
 "nbformat_minor": 5
}
